{
  "nbformat": 4,
  "nbformat_minor": 0,
  "metadata": {
    "colab": {
      "name": "124. Binary Tree Maximum Path Sum",
      "provenance": [],
      "collapsed_sections": [],
      "authorship_tag": "ABX9TyMtFikJ5sfHG0EsC1R/bNss",
      "include_colab_link": true
    },
    "kernelspec": {
      "name": "python3",
      "display_name": "Python 3"
    }
  },
  "cells": [
    {
      "cell_type": "markdown",
      "metadata": {
        "id": "view-in-github",
        "colab_type": "text"
      },
      "source": [
        "<a href=\"https://colab.research.google.com/github/RuolinQu/Leetcode/blob/main/124_Binary_Tree_Maximum_Path_Sum.ipynb\" target=\"_parent\"><img src=\"https://colab.research.google.com/assets/colab-badge.svg\" alt=\"Open In Colab\"/></a>"
      ]
    },
    {
      "cell_type": "code",
      "metadata": {
        "id": "SCh-21sNnaf5"
      },
      "source": [
        "# Definition for a binary tree node.\r\n",
        "# class TreeNode:\r\n",
        "#     def __init__(self, val=0, left=None, right=None):\r\n",
        "#         self.val = val\r\n",
        "#         self.left = left\r\n",
        "#         self.right = right\r\n",
        "class Solution:\r\n",
        "    def maxPathSum(self, root: TreeNode) -> int:\r\n",
        "        ans=float('-inf')\r\n",
        "        def helper(node):\r\n",
        "            if not node:return float('-inf')\r\n",
        "            left=helper(node.left)\r\n",
        "            right=helper(node.right)\r\n",
        "            val=node.val\r\n",
        "            path=max(left+val,right+val,val)\r\n",
        "            nonlocal ans\r\n",
        "            ans=max(ans,path,left+val+right)\r\n",
        "            return path\r\n",
        "        helper(root)\r\n",
        "        return ans\r\n",
        "        \r\n",
        "        \r\n",
        "        \r\n",
        "        "
      ],
      "execution_count": null,
      "outputs": []
    }
  ]
}