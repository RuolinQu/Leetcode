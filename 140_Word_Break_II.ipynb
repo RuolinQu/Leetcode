{
  "nbformat": 4,
  "nbformat_minor": 0,
  "metadata": {
    "colab": {
      "name": "140. Word Break II",
      "provenance": [],
      "collapsed_sections": [],
      "authorship_tag": "ABX9TyNEX1PEwvbeUm7XFo7PBTko",
      "include_colab_link": true
    },
    "kernelspec": {
      "name": "python3",
      "display_name": "Python 3"
    }
  },
  "cells": [
    {
      "cell_type": "markdown",
      "metadata": {
        "id": "view-in-github",
        "colab_type": "text"
      },
      "source": [
        "<a href=\"https://colab.research.google.com/github/RuolinQu/Leetcode/blob/main/140_Word_Break_II.ipynb\" target=\"_parent\"><img src=\"https://colab.research.google.com/assets/colab-badge.svg\" alt=\"Open In Colab\"/></a>"
      ]
    },
    {
      "cell_type": "code",
      "metadata": {
        "id": "8wDsoCqn2xZz",
        "colab": {
          "base_uri": "https://localhost:8080/"
        },
        "outputId": "2fcc15e4-7a1a-4bcb-e25e-6527684c320f"
      },
      "source": [
        "\n",
        "  def wordBreak(self, s: str, wordDict: List[str]) -> List[str]:\n",
        "      dic=set()\n",
        "      ans=[]\n",
        "      for word in wordDict:\n",
        "          dic.add(word)\n",
        "      def helper(cur,res):\n",
        "          if not cur:\n",
        "              ans.append(\" \".join(res))\n",
        "          for i in range(len(cur)):\n",
        "              if cur[:i+1] in dic:\n",
        "                  res.append(cur[:i+1])\n",
        "                  helper(cur[i+1:],res)\n",
        "                  res.pop()\n",
        "      helper(s,[])\n",
        "      return ans\n",
        "          "
      ],
      "execution_count": null,
      "outputs": [
        {
          "output_type": "stream",
          "text": [
            "[[0, 0, 0, 0, 0], [0, 1, 1, 2, 2], [0, 1, 2, 3, 4], [0, 2, 4, 6, 7], [0, 3, 5, 7, 9], [0, 3, 5, 8, 10], [0, 3, 6, 9, 12]]\n",
            "True\n"
          ],
          "name": "stdout"
        }
      ]
    },
    {
      "cell_type": "code",
      "metadata": {
        "id": "VmuYIDQ3dTPs"
      },
      "source": [
        ""
      ],
      "execution_count": null,
      "outputs": []
    }
  ]
}