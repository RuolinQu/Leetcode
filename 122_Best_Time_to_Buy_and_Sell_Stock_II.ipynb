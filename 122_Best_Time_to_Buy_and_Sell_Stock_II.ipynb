{
  "nbformat": 4,
  "nbformat_minor": 0,
  "metadata": {
    "colab": {
      "name": "122. Best Time to Buy and Sell Stock II",
      "provenance": [],
      "collapsed_sections": [],
      "authorship_tag": "ABX9TyNYr3n3rqpI6J+cAvVt9Ajl",
      "include_colab_link": true
    },
    "kernelspec": {
      "name": "python3",
      "display_name": "Python 3"
    }
  },
  "cells": [
    {
      "cell_type": "markdown",
      "metadata": {
        "id": "view-in-github",
        "colab_type": "text"
      },
      "source": [
        "<a href=\"https://colab.research.google.com/github/RuolinQu/Leetcode/blob/main/122_Best_Time_to_Buy_and_Sell_Stock_II.ipynb\" target=\"_parent\"><img src=\"https://colab.research.google.com/assets/colab-badge.svg\" alt=\"Open In Colab\"/></a>"
      ]
    },
    {
      "cell_type": "code",
      "metadata": {
        "id": "8wDsoCqn2xZz",
        "colab": {
          "base_uri": "https://localhost:8080/"
        },
        "outputId": "2fcc15e4-7a1a-4bcb-e25e-6527684c320f"
      },
      "source": [
        "    def maxProfit(self, prices: List[int]) -> int:\n",
        "        #1\n",
        "        # ans=0\n",
        "        # for i in range(1,len(prices)):\n",
        "        #     if prices[i]>prices[i-1]:\n",
        "        #         ans+=prices[i]-prices[i-1]\n",
        "        # return ans\n",
        "        \n",
        "        #2 0:not owning, 1:owning\n",
        "        dp=[[0,-float('inf')] for i in range(len(prices))]\n",
        "        for i in range(len(prices)):\n",
        "            dp[i][0]=max(dp[i-1][0],dp[i-1][1]+prices[i])\n",
        "            dp[i][1]=max(dp[i-1][1],dp[i-1][0]-prices[i])\n",
        "        return dp[-1][0]\n",
        "            "
      ],
      "execution_count": null,
      "outputs": [
        {
          "output_type": "stream",
          "text": [
            "[[0, 0, 0, 0, 0], [0, 1, 1, 2, 2], [0, 1, 2, 3, 4], [0, 2, 4, 6, 7], [0, 3, 5, 7, 9], [0, 3, 5, 8, 10], [0, 3, 6, 9, 12]]\n",
            "True\n"
          ],
          "name": "stdout"
        }
      ]
    },
    {
      "cell_type": "code",
      "metadata": {
        "id": "VmuYIDQ3dTPs"
      },
      "source": [
        ""
      ],
      "execution_count": null,
      "outputs": []
    }
  ]
}