{
  "nbformat": 4,
  "nbformat_minor": 0,
  "metadata": {
    "colab": {
      "name": "739. Daily Temperatures",
      "provenance": [],
      "collapsed_sections": [],
      "authorship_tag": "ABX9TyOnkCJqsc6KtnxwM4yKiuq7",
      "include_colab_link": true
    },
    "kernelspec": {
      "name": "python3",
      "display_name": "Python 3"
    }
  },
  "cells": [
    {
      "cell_type": "markdown",
      "metadata": {
        "id": "view-in-github",
        "colab_type": "text"
      },
      "source": [
        "<a href=\"https://colab.research.google.com/github/RuolinQu/Leetcode/blob/main/739_Daily_Temperatures.ipynb\" target=\"_parent\"><img src=\"https://colab.research.google.com/assets/colab-badge.svg\" alt=\"Open In Colab\"/></a>"
      ]
    },
    {
      "cell_type": "markdown",
      "metadata": {
        "id": "c1hDS7bWQ6P2"
      },
      "source": [
        "list 中 某组元素对某个元素的映射关系"
      ]
    },
    {
      "cell_type": "code",
      "metadata": {
        "id": "8wDsoCqn2xZz"
      },
      "source": [
        "class Solution:\r\n",
        "    def dailyTemperatures(self, T: List[int]) -> List[int]:\r\n",
        "        res=[0 for i in range(len(T))]\r\n",
        "        index_arr=[]\r\n",
        "        i=len(T)-1\r\n",
        "        while i>=0:\r\n",
        "            while index_arr and T[index_arr[-1]]<=T[i]:\r\n",
        "                index_arr.pop()\r\n",
        "            if index_arr:\r\n",
        "                res[i]=index_arr[-1]-i\r\n",
        "            index_arr.append(i)\r\n",
        "            i-=1\r\n",
        "        return res  \r\n",
        "        "
      ],
      "execution_count": null,
      "outputs": []
    }
  ]
}