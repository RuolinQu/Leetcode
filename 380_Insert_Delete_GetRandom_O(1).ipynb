{
  "nbformat": 4,
  "nbformat_minor": 0,
  "metadata": {
    "colab": {
      "name": "380. Insert Delete GetRandom O(1)",
      "provenance": [],
      "collapsed_sections": [],
      "authorship_tag": "ABX9TyNPkAgGHcpBF8ipUfjvWGx3",
      "include_colab_link": true
    },
    "kernelspec": {
      "name": "python3",
      "display_name": "Python 3"
    }
  },
  "cells": [
    {
      "cell_type": "markdown",
      "metadata": {
        "id": "view-in-github",
        "colab_type": "text"
      },
      "source": [
        "<a href=\"https://colab.research.google.com/github/RuolinQu/Leetcode/blob/main/380_Insert_Delete_GetRandom_O(1).ipynb\" target=\"_parent\"><img src=\"https://colab.research.google.com/assets/colab-badge.svg\" alt=\"Open In Colab\"/></a>"
      ]
    },
    {
      "cell_type": "code",
      "metadata": {
        "id": "VmuYIDQ3dTPs"
      },
      "source": [
        "class RandomizedSet:\n",
        "\n",
        "    def __init__(self):\n",
        "        \"\"\"\n",
        "        Initialize your data structure here.\n",
        "        \"\"\"\n",
        "        self.arr=[]\n",
        "        self.has={}\n",
        "        \n",
        "\n",
        "    def insert(self, val: int) -> bool:\n",
        "        \"\"\"\n",
        "        Inserts a value to the set. Returns true if the set did not already contain the specified element.\n",
        "        \"\"\"\n",
        "#         if val in self.has:\n",
        "#             return False\n",
        "#         self.arr.append(val)\n",
        "#         self.has[val]=self.arr[len(self.arr)-1]\n",
        "#         return True\n",
        "        \n",
        "        \n",
        "        \n",
        "        if val not in self.has:\n",
        "            self.has[val]=len(self.arr)\n",
        "            self.arr.append(val)\n",
        "            return True\n",
        "        else:\n",
        "            return False\n",
        "\n",
        "    def remove(self, val: int) -> bool:\n",
        "        \"\"\"\n",
        "        Removes a value from the set. Returns true if the set contained the specified element.\n",
        "        \"\"\"\n",
        "        if val in self.has:\n",
        "            self.has[self.arr[-1]]=self.has[val]\n",
        "            self.arr[self.has[val]]=self.arr[-1]\n",
        "            self.has.pop(val)\n",
        "            self.arr.pop()\n",
        "            return True\n",
        "        return False\n",
        "        \n",
        "        # if val in self.has:\n",
        "        #     self.has[self.arr[-1]]=self.has[val]\n",
        "        #     self.arr[self.has[val]]=self.arr[-1]\n",
        "        #     self.has.pop(val)\n",
        "        #     self.arr.pop()\n",
        "        #     return True\n",
        "        # else:\n",
        "        #     return False\n",
        "        \n",
        "\n",
        "    def getRandom(self) -> int:\n",
        "        \"\"\"\n",
        "        Get a random element from the set.\n",
        "        \"\"\"\n",
        "        #return self.arr[random.randint(0,len(self.arr)-1)]\n",
        "        return random.choice(self.arr)"
      ],
      "execution_count": null,
      "outputs": []
    }
  ]
}