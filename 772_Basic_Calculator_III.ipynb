{
  "nbformat": 4,
  "nbformat_minor": 0,
  "metadata": {
    "colab": {
      "name": "772. Basic Calculator III",
      "provenance": [],
      "collapsed_sections": [],
      "authorship_tag": "ABX9TyPEx8CtFiWFuiQS1hycDpJe",
      "include_colab_link": true
    },
    "kernelspec": {
      "name": "python3",
      "display_name": "Python 3"
    }
  },
  "cells": [
    {
      "cell_type": "markdown",
      "metadata": {
        "id": "view-in-github",
        "colab_type": "text"
      },
      "source": [
        "<a href=\"https://colab.research.google.com/github/RuolinQu/Leetcode/blob/main/772_Basic_Calculator_III.ipynb\" target=\"_parent\"><img src=\"https://colab.research.google.com/assets/colab-badge.svg\" alt=\"Open In Colab\"/></a>"
      ]
    },
    {
      "cell_type": "markdown",
      "metadata": {
        "id": "zpCK58Lq64cM"
      },
      "source": [
        "( ) both go to the calculation, ) is for add up whats in braket, ( is for \r\n",
        "\r\n",
        "combine the sum with previous oprators. ( before, ) after"
      ]
    },
    {
      "cell_type": "code",
      "metadata": {
        "id": "SCh-21sNnaf5"
      },
      "source": [
        "import math\r\n",
        "class Solution:\r\n",
        "    def calculate(self, s: str) -> int:\r\n",
        "        def helper(arr):\r\n",
        "            stack=[]\r\n",
        "            num,op=0,\"+\"\r\n",
        "            while arr:\r\n",
        "                print(arr)\r\n",
        "                c=arr.popleft()\r\n",
        "                if c.isdigit():\r\n",
        "                    num=num*10+int(c)\r\n",
        "                if c==\"(\": num=helper(arr)\r\n",
        "                if (not c.isdigit() and c!=\" \") or len(arr)==0:\r\n",
        "                    if op==\"+\":\r\n",
        "                        stack.append(num)\r\n",
        "                    elif op==\"-\":\r\n",
        "                        stack.append(-num)\r\n",
        "                    elif op==\"*\":\r\n",
        "                        stack.append(stack.pop()*num)\r\n",
        "                    elif op==\"/\":\r\n",
        "                        l,r=stack.pop(),num\r\n",
        "                        if l*r>=0:stack.append(l//r)\r\n",
        "                        else:\r\n",
        "                            stack.append(math.ceil(l/r))\r\n",
        "                    num,op=0,c\r\n",
        "                    print(c,stack)\r\n",
        "                if c==\")\": break\r\n",
        "            return sum(stack)\r\n",
        "        return helper(collections.deque(list(s)))\r\n",
        "        \r\n",
        "        "
      ],
      "execution_count": null,
      "outputs": []
    }
  ]
}