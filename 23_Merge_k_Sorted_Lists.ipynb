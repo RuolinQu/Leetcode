{
  "nbformat": 4,
  "nbformat_minor": 0,
  "metadata": {
    "colab": {
      "name": "23. Merge k Sorted Lists",
      "provenance": [],
      "collapsed_sections": [],
      "authorship_tag": "ABX9TyPdtWIIcWdgr8nE2OmXxAny",
      "include_colab_link": true
    },
    "kernelspec": {
      "name": "python3",
      "display_name": "Python 3"
    }
  },
  "cells": [
    {
      "cell_type": "markdown",
      "metadata": {
        "id": "view-in-github",
        "colab_type": "text"
      },
      "source": [
        "<a href=\"https://colab.research.google.com/github/RuolinQu/Leetcode/blob/main/23_Merge_k_Sorted_Lists.ipynb\" target=\"_parent\"><img src=\"https://colab.research.google.com/assets/colab-badge.svg\" alt=\"Open In Colab\"/></a>"
      ]
    },
    {
      "cell_type": "markdown",
      "metadata": {
        "id": "zpCK58Lq64cM"
      },
      "source": [
        "enumerate"
      ]
    },
    {
      "cell_type": "code",
      "metadata": {
        "id": "SCh-21sNnaf5"
      },
      "source": [
        "from heapq import * \r\n",
        "class Solution:\r\n",
        "    def mergeKLists(self, lists):\r\n",
        "        \"\"\"\r\n",
        "        :type lists: List[ListNode]\r\n",
        "        :rtype: ListNode\r\n",
        "        \"\"\"\r\n",
        "\r\n",
        "        dummy=head=ListNode(-1)\r\n",
        "        heap=[]\r\n",
        "        for i,node in enumerate(lists):\r\n",
        "            if node:\r\n",
        "                heappush(heap,(node.val,i))\r\n",
        "        while heap:\r\n",
        "            val,i=heappop(heap)\r\n",
        "            cur=lists[i]\r\n",
        "            head.next=ListNode(val)\r\n",
        "            head=head.next\r\n",
        "            if cur.next:\r\n",
        "                lists[i]=cur.next\r\n",
        "                heappush(heap,(cur.next.val,i))\r\n",
        "        return dummy.next\r\n",
        "            \r\n",
        "        \r\n",
        "        \r\n",
        "        \r\n",
        "        \r\n",
        "        "
      ],
      "execution_count": null,
      "outputs": []
    }
  ]
}