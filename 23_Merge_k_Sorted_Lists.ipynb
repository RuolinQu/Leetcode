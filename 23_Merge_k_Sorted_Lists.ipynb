{
  "nbformat": 4,
  "nbformat_minor": 0,
  "metadata": {
    "colab": {
      "name": "23. Merge k Sorted Lists",
      "provenance": [],
      "collapsed_sections": [],
      "authorship_tag": "ABX9TyMvuzB/Ga1LbJgvYTiqcwJU",
      "include_colab_link": true
    },
    "kernelspec": {
      "name": "python3",
      "display_name": "Python 3"
    }
  },
  "cells": [
    {
      "cell_type": "markdown",
      "metadata": {
        "id": "view-in-github",
        "colab_type": "text"
      },
      "source": [
        "<a href=\"https://colab.research.google.com/github/RuolinQu/Leetcode/blob/main/23_Merge_k_Sorted_Lists.ipynb\" target=\"_parent\"><img src=\"https://colab.research.google.com/assets/colab-badge.svg\" alt=\"Open In Colab\"/></a>"
      ]
    },
    {
      "cell_type": "code",
      "metadata": {
        "id": "8wDsoCqn2xZz",
        "colab": {
          "base_uri": "https://localhost:8080/"
        },
        "outputId": "2fcc15e4-7a1a-4bcb-e25e-6527684c320f"
      },
      "source": [
        "from heapq import *\n",
        "class Solution:\n",
        "    def mergeKLists(self, lists: List[ListNode]) -> ListNode:\n",
        "        heap=[]\n",
        "        dummy=cur=ListNode(-1)\n",
        "        for i in range(len(lists)):\n",
        "            if not lists[i]:continue\n",
        "            heappush(heap,(lists[i].val,i))\n",
        "        while heap:\n",
        "            val,row=heappop(heap)\n",
        "            cur.next=ListNode(val)\n",
        "            cur=cur.next\n",
        "            node=lists[row]\n",
        "            if node.next:\n",
        "                lists[row]=node.next\n",
        "                heappush(heap,(node.next.val,row))\n",
        "        return dummy.next\n",
        "            "
      ],
      "execution_count": null,
      "outputs": [
        {
          "output_type": "stream",
          "text": [
            "[[0, 0, 0, 0, 0], [0, 1, 1, 2, 2], [0, 1, 2, 3, 4], [0, 2, 4, 6, 7], [0, 3, 5, 7, 9], [0, 3, 5, 8, 10], [0, 3, 6, 9, 12]]\n",
            "True\n"
          ],
          "name": "stdout"
        }
      ]
    },
    {
      "cell_type": "code",
      "metadata": {
        "id": "VmuYIDQ3dTPs"
      },
      "source": [
        ""
      ],
      "execution_count": null,
      "outputs": []
    }
  ]
}