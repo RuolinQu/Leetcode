{
  "nbformat": 4,
  "nbformat_minor": 0,
  "metadata": {
    "colab": {
      "name": "253. Meeting Rooms II",
      "provenance": [],
      "collapsed_sections": [],
      "authorship_tag": "ABX9TyPp+mE0j/Ei7R+x9tu1x6dc",
      "include_colab_link": true
    },
    "kernelspec": {
      "name": "python3",
      "display_name": "Python 3"
    }
  },
  "cells": [
    {
      "cell_type": "markdown",
      "metadata": {
        "id": "view-in-github",
        "colab_type": "text"
      },
      "source": [
        "<a href=\"https://colab.research.google.com/github/RuolinQu/Leetcode/blob/main/253_Meeting_Rooms_II.ipynb\" target=\"_parent\"><img src=\"https://colab.research.google.com/assets/colab-badge.svg\" alt=\"Open In Colab\"/></a>"
      ]
    },
    {
      "cell_type": "code",
      "metadata": {
        "id": "8wDsoCqn2xZz",
        "colab": {
          "base_uri": "https://localhost:8080/"
        },
        "outputId": "2fcc15e4-7a1a-4bcb-e25e-6527684c320f"
      },
      "source": [
        "    def minMeetingRooms(self, intervals: List[List[int]]) -> int:\n",
        "        start=sorted([i[0] for i in intervals])\n",
        "        end=sorted(i[1] for i in intervals)\n",
        "        i,j=0,0\n",
        "        ans,cur=0,0\n",
        "        while i<len(intervals):\n",
        "            if start[i]<end[j]:\n",
        "                cur+=1\n",
        "                ans=max(ans,cur)\n",
        "                i+=1\n",
        "            else:\n",
        "                j+=1\n",
        "                cur-=1\n",
        "        return ans"
      ],
      "execution_count": null,
      "outputs": [
        {
          "output_type": "stream",
          "text": [
            "[[0, 0, 0, 0, 0], [0, 1, 1, 2, 2], [0, 1, 2, 3, 4], [0, 2, 4, 6, 7], [0, 3, 5, 7, 9], [0, 3, 5, 8, 10], [0, 3, 6, 9, 12]]\n",
            "True\n"
          ],
          "name": "stdout"
        }
      ]
    },
    {
      "cell_type": "code",
      "metadata": {
        "id": "VmuYIDQ3dTPs"
      },
      "source": [
        ""
      ],
      "execution_count": null,
      "outputs": []
    }
  ]
}