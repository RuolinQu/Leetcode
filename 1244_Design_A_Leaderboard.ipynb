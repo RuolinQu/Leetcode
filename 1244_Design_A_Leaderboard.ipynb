{
  "nbformat": 4,
  "nbformat_minor": 0,
  "metadata": {
    "colab": {
      "name": "1244. Design A Leaderboard",
      "provenance": [],
      "collapsed_sections": [],
      "authorship_tag": "ABX9TyOo7yxVYYSO9mis+cFWmtBJ",
      "include_colab_link": true
    },
    "kernelspec": {
      "name": "python3",
      "display_name": "Python 3"
    }
  },
  "cells": [
    {
      "cell_type": "markdown",
      "metadata": {
        "id": "view-in-github",
        "colab_type": "text"
      },
      "source": [
        "<a href=\"https://colab.research.google.com/github/RuolinQu/Leetcode/blob/main/1244_Design_A_Leaderboard.ipynb\" target=\"_parent\"><img src=\"https://colab.research.google.com/assets/colab-badge.svg\" alt=\"Open In Colab\"/></a>"
      ]
    },
    {
      "cell_type": "code",
      "metadata": {
        "id": "8wDsoCqn2xZz",
        "colab": {
          "base_uri": "https://localhost:8080/"
        },
        "outputId": "2fcc15e4-7a1a-4bcb-e25e-6527684c320f"
      },
      "source": [
        "from heapq import *\n",
        "\n",
        "class Leaderboard:\n",
        "\n",
        "    def __init__(self):\n",
        "        self.dic=collections.defaultdict(int)\n",
        "\n",
        "    def addScore(self, playerId: int, score: int) -> None:\n",
        "        self.dic[playerId]+=score\n",
        "\n",
        "    def top(self, K: int) -> int:\n",
        "        heap=[]\n",
        "        for player,score in self.dic.items():\n",
        "            if len(heap)<K:\n",
        "                heappush(heap,score)\n",
        "            else:\n",
        "                heappushpop(heap,score)\n",
        "        ans=0\n",
        "        for i in range(K):\n",
        "            ans+=heappop(heap)\n",
        "        return ans\n",
        "\n",
        "    def reset(self, playerId: int) -> None:\n",
        "        self.dic[playerId]=0\n",
        "\n",
        "            "
      ],
      "execution_count": null,
      "outputs": [
        {
          "output_type": "stream",
          "text": [
            "[[0, 0, 0, 0, 0], [0, 1, 1, 2, 2], [0, 1, 2, 3, 4], [0, 2, 4, 6, 7], [0, 3, 5, 7, 9], [0, 3, 5, 8, 10], [0, 3, 6, 9, 12]]\n",
            "True\n"
          ],
          "name": "stdout"
        }
      ]
    },
    {
      "cell_type": "code",
      "metadata": {
        "id": "VmuYIDQ3dTPs"
      },
      "source": [
        ""
      ],
      "execution_count": null,
      "outputs": []
    }
  ]
}