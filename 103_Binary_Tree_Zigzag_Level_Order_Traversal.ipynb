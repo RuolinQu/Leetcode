{
  "nbformat": 4,
  "nbformat_minor": 0,
  "metadata": {
    "colab": {
      "name": "103. Binary Tree Zigzag Level Order Traversal",
      "provenance": [],
      "collapsed_sections": [],
      "authorship_tag": "ABX9TyMn3gm8vVW+8eSoonuQtD+N",
      "include_colab_link": true
    },
    "kernelspec": {
      "name": "python3",
      "display_name": "Python 3"
    }
  },
  "cells": [
    {
      "cell_type": "markdown",
      "metadata": {
        "id": "view-in-github",
        "colab_type": "text"
      },
      "source": [
        "<a href=\"https://colab.research.google.com/github/RuolinQu/Leetcode/blob/main/103_Binary_Tree_Zigzag_Level_Order_Traversal.ipynb\" target=\"_parent\"><img src=\"https://colab.research.google.com/assets/colab-badge.svg\" alt=\"Open In Colab\"/></a>"
      ]
    },
    {
      "cell_type": "code",
      "metadata": {
        "id": "VmuYIDQ3dTPs"
      },
      "source": [
        "    def zigzagLevelOrder(self, root: TreeNode) -> List[List[int]]:\n",
        "        if not root:return []\n",
        "        ans,flag,stack=[],1,collections.deque([root])\n",
        "        while stack:\n",
        "            tmp=[]\n",
        "            for i in range(len(stack)):\n",
        "                node=stack.popleft()\n",
        "                tmp.append(node.val)\n",
        "                if node.left:\n",
        "                    stack.append(node.left)\n",
        "                if node.right:\n",
        "                    stack.append(node.right)\n",
        "            ans.append(tmp[::flag])\n",
        "            flag*=-1\n",
        "        return ans"
      ],
      "execution_count": null,
      "outputs": []
    }
  ]
}