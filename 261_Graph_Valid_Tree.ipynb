{
  "nbformat": 4,
  "nbformat_minor": 0,
  "metadata": {
    "colab": {
      "name": "261. Graph Valid Tree",
      "provenance": [],
      "collapsed_sections": [],
      "authorship_tag": "ABX9TyPPT0Hj7AQxRSe9FS0mgvWN",
      "include_colab_link": true
    },
    "kernelspec": {
      "name": "python3",
      "display_name": "Python 3"
    }
  },
  "cells": [
    {
      "cell_type": "markdown",
      "metadata": {
        "id": "view-in-github",
        "colab_type": "text"
      },
      "source": [
        "<a href=\"https://colab.research.google.com/github/RuolinQu/Leetcode/blob/main/261_Graph_Valid_Tree.ipynb\" target=\"_parent\"><img src=\"https://colab.research.google.com/assets/colab-badge.svg\" alt=\"Open In Colab\"/></a>"
      ]
    },
    {
      "cell_type": "markdown",
      "metadata": {
        "id": "BDCT0NyzhhQc"
      },
      "source": [
        "parent:{}"
      ]
    },
    {
      "cell_type": "code",
      "metadata": {
        "colab": {
          "base_uri": "https://localhost:8080/"
        },
        "id": "LPrnogySeVXh",
        "outputId": "3a2786d0-a135-4026-f0a9-e46572c69b0d"
      },
      "source": [
        "import collections\r\n",
        "def validTree( n: int, edges):\r\n",
        "\r\n",
        "  ##1111\r\n",
        "        # adList=collections.defaultdict(list)\r\n",
        "        # for u,v in edges:\r\n",
        "        #     adList[u].append(v)\r\n",
        "        #     adList[v].append(u)\r\n",
        "        # parent=[-1]*n\r\n",
        "        # visited=set()\r\n",
        "        # def dfs(node):\r\n",
        "        #     visited.add(node)\r\n",
        "        #     for nei in adList[node]:\r\n",
        "        #         if nei not in visited:\r\n",
        "        #             parent[nei]=node\r\n",
        "        #             if not dfs(nei):return False\r\n",
        "        #         elif parent[node]!=nei:\r\n",
        "        #             return False\r\n",
        "        #     return True\r\n",
        "        # if not dfs(0):return False\r\n",
        "        # return len(visited)==n\r\n",
        "                    \r\n",
        "    #22222\r\n",
        "        # queue=collections.deque([0])\r\n",
        "        # while queue:\r\n",
        "        #     node=queue.popleft()\r\n",
        "        #     visited.add(node)\r\n",
        "        #     for neighbor in adList[node]:\r\n",
        "        #         if neighbor not in visited:\r\n",
        "        #             parent[neighbor]=node\r\n",
        "        #             queue.append(neighbor)\r\n",
        "        #         elif parent[node]!=neighbor:\r\n",
        "        #             return False\r\n",
        "        # return len(visited)==n\r\n",
        "\r\n",
        "\r\n",
        "        ##follow up:delete on edge to avoid any cycle\r\n",
        "\r\n",
        "    adList=collections.defaultdict(list)\r\n",
        "    for u,v in edges:\r\n",
        "        adList[u].append(v)\r\n",
        "        adList[v].append(u)\r\n",
        "    parent=[-1]*n\r\n",
        "    visited=set()\r\n",
        "    print(adList)\r\n",
        "    def dfs(node,valid):\r\n",
        "        visited.add(node)\r\n",
        "        for nei in adList[node]:\r\n",
        "            if nei not in visited:\r\n",
        "                parent[nei]=node\r\n",
        "                if not dfs(nei,valid):return False\r\n",
        "            elif parent[node]!=nei:\r\n",
        "                if valid==1:\r\n",
        "                  print(\"!!\")\r\n",
        "                  adList[node].pop(adList[node].index(nei))\r\n",
        "                  adList[nei].pop(adList[nei].index(node))\r\n",
        "                  valid-=1\r\n",
        "                  continue\r\n",
        "                else:\r\n",
        "                  return False\r\n",
        "        return True\r\n",
        "    if not dfs(0,1):return False\r\n",
        "    return len(visited)==n\r\n",
        "\r\n",
        "validTree(5,[[0,1], [1,2], [2,3], [1,3], [1,4]])\r\n",
        "                    "
      ],
      "execution_count": 9,
      "outputs": [
        {
          "output_type": "stream",
          "text": [
            "defaultdict(<class 'list'>, {0: [1], 1: [0, 2, 3, 4], 2: [1, 3], 3: [2, 1], 4: [1]})\n",
            "!!\n",
            "defaultdict(<class 'list'>, {0: [1], 1: [0, 2, 4], 2: [1, 3], 3: [2], 4: [1]})\n"
          ],
          "name": "stdout"
        },
        {
          "output_type": "execute_result",
          "data": {
            "text/plain": [
              "True"
            ]
          },
          "metadata": {
            "tags": []
          },
          "execution_count": 9
        }
      ]
    },
    {
      "cell_type": "markdown",
      "metadata": {
        "id": "qW1BW0Jcdu1i"
      },
      "source": [
        ""
      ]
    },
    {
      "cell_type": "code",
      "metadata": {
        "id": "X691e6xBVMj4",
        "colab": {
          "base_uri": "https://localhost:8080/"
        },
        "outputId": "76aa772f-2cb1-46a4-a427-84060302bd27"
      },
      "source": [
        "def isfit(rectangles,board):\r\n",
        "  def is_vaild(board,rec,i,j,direc):\r\n",
        "    w,h=len(board[0]),len(board[0])\r\n",
        "    if direc==\"h\":\r\n",
        "      m,n=len(rec),len(rec[0])\r\n",
        "    elif direc=='v':\r\n",
        "      m,n=len(rec[0]),len(rec)\r\n",
        "    for dx in range(m):\r\n",
        "      for dy in range(n):\r\n",
        "        x,y=i+dx,j+dy\r\n",
        "        if 0<=x<w and 0<=y<h and board[x][y]==0:continue\r\n",
        "        else:return False\r\n",
        "    return True\r\n",
        "  \r\n",
        "  def update(board,x,y,dx,dy):\r\n",
        "    for i in range(dx):\r\n",
        "      for j in range(dy):\r\n",
        "        board[x+i][y+j]=1\r\n",
        "\r\n",
        "  def backtracking(rec,board):\r\n",
        "    if len(rec)==0:return True\r\n",
        "    cur_rec=rec[0]\r\n",
        "    m,n=len(board),len(board[0])\r\n",
        "    m1,n1=len(cur_rec),len(cur_rec[0])\r\n",
        "    for i in range(m):\r\n",
        "      for j in range(n):\r\n",
        "        if board[i][j]==0 and is_vaild(board,cur_rec,i,j,\"h\"):\r\n",
        "          tmp_board=[[board[b][a] for a in range(n)]for b in range(m)]\r\n",
        "          print(tmp_board)\r\n",
        "          update(tmp_board,i,j,m1,n1)\r\n",
        "          print(tmp_board,\"!\")\r\n",
        "          if backtracking(rec[1:],tmp_board):\r\n",
        "            return True\r\n",
        "        elif board[i][j]==0 and is_vaild(board,cur_rec,i,j,\"v\"):\r\n",
        "          tmp_board=[[board[b][a] for a in range(n)]for b in range(m)]\r\n",
        "          print(tmp_board)\r\n",
        "          update(tmp_board,i,j,n1,m1)\r\n",
        "          print(tmp_board,\"?\")\r\n",
        "          if backtracking(rec[1:],tmp_board):\r\n",
        "            return True\r\n",
        "    return False\r\n",
        "  return backtracking(rectangles,board)\r\n",
        "\r\n",
        "isfit( [[[1,1]],\r\n",
        "    [[1,1]]],\r\n",
        "    \r\n",
        "    [[1,0,1],\r\n",
        "    [1,1,1],\r\n",
        "    [1,0,0]])"
      ],
      "execution_count": null,
      "outputs": [
        {
          "output_type": "stream",
          "text": [
            "[[1, 0, 1], [1, 1, 1], [1, 0, 0]]\n",
            "[[1, 0, 1], [1, 1, 1], [1, 1, 1]] !\n"
          ],
          "name": "stdout"
        },
        {
          "output_type": "execute_result",
          "data": {
            "text/plain": [
              "False"
            ]
          },
          "metadata": {
            "tags": []
          },
          "execution_count": 20
        }
      ]
    }
  ]
}