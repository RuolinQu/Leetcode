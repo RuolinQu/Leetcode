{
  "nbformat": 4,
  "nbformat_minor": 0,
  "metadata": {
    "colab": {
      "name": "261. Graph Valid Tree",
      "provenance": [],
      "collapsed_sections": [],
      "authorship_tag": "ABX9TyMRSIFZlJKkCpFuysZNpUAg",
      "include_colab_link": true
    },
    "kernelspec": {
      "name": "python3",
      "display_name": "Python 3"
    }
  },
  "cells": [
    {
      "cell_type": "markdown",
      "metadata": {
        "id": "view-in-github",
        "colab_type": "text"
      },
      "source": [
        "<a href=\"https://colab.research.google.com/github/RuolinQu/Leetcode/blob/main/261_Graph_Valid_Tree.ipynb\" target=\"_parent\"><img src=\"https://colab.research.google.com/assets/colab-badge.svg\" alt=\"Open In Colab\"/></a>"
      ]
    },
    {
      "cell_type": "markdown",
      "metadata": {
        "id": "qW1BW0Jcdu1i"
      },
      "source": [
        "elif parent[node]!=nei:\r\n",
        "\r\n",
        "  return False"
      ]
    },
    {
      "cell_type": "code",
      "metadata": {
        "id": "X691e6xBVMj4"
      },
      "source": [
        "    def validTree(self, n: int, edges: List[List[int]]) -> bool:\r\n",
        "        adList=collections.defaultdict(list)\r\n",
        "        for u,v in edges:\r\n",
        "            adList[u].append(v)\r\n",
        "            adList[v].append(u)\r\n",
        "        parent=[-1]*n\r\n",
        "        visited=set()\r\n",
        "        def dfs(node):\r\n",
        "            visited.add(node)\r\n",
        "            for nei in adList[node]:\r\n",
        "                if nei not in visited:\r\n",
        "                    parent[nei]=node\r\n",
        "                    if not dfs(nei):return False\r\n",
        "                elif parent[node]!=nei:\r\n",
        "                    return False\r\n",
        "            return True\r\n",
        "        if not dfs(0):return False\r\n",
        "        return len(visited)==n\r\n",
        "                    \r\n",
        "            \r\n",
        "        # queue=collections.deque([0])\r\n",
        "        # while queue:\r\n",
        "        #     node=queue.popleft()\r\n",
        "        #     visited.add(node)\r\n",
        "        #     for neighbor in adList[node]:\r\n",
        "        #         if neighbor not in visited:\r\n",
        "        #             parent[neighbor]=node\r\n",
        "        #             queue.append(neighbor)\r\n",
        "        #         elif parent[node]!=neighbor:\r\n",
        "        #             return False\r\n",
        "        # return len(visited)==n"
      ],
      "execution_count": null,
      "outputs": []
    }
  ]
}