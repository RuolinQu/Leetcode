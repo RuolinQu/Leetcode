{
  "nbformat": 4,
  "nbformat_minor": 0,
  "metadata": {
    "colab": {
      "name": "496. Next Greater Element I",
      "provenance": [],
      "collapsed_sections": [],
      "authorship_tag": "ABX9TyMaHS76tBjPSP/o7d29YZet",
      "include_colab_link": true
    },
    "kernelspec": {
      "name": "python3",
      "display_name": "Python 3"
    }
  },
  "cells": [
    {
      "cell_type": "markdown",
      "metadata": {
        "id": "view-in-github",
        "colab_type": "text"
      },
      "source": [
        "<a href=\"https://colab.research.google.com/github/RuolinQu/Leetcode/blob/main/496_Next_Greater_Element_I.ipynb\" target=\"_parent\"><img src=\"https://colab.research.google.com/assets/colab-badge.svg\" alt=\"Open In Colab\"/></a>"
      ]
    },
    {
      "cell_type": "markdown",
      "metadata": {
        "id": "cnYmZXBwngTU"
      },
      "source": [
        "ignore the shorter ele in the stack. pop out them.\r\n",
        "\r\n",
        "keep the height in a descending order."
      ]
    },
    {
      "cell_type": "code",
      "metadata": {
        "id": "SCh-21sNnaf5"
      },
      "source": [
        "class Solution:\r\n",
        "    def nextGreaterElement(self, nums1: List[int], nums2: List[int]) -> List[int]:\r\n",
        "        dic={}\r\n",
        "        for i in range(len(nums1)):\r\n",
        "            dic[nums1[i]]=i\r\n",
        "        stack=[]\r\n",
        "        ans=[0 for i in range(len(nums1))]\r\n",
        "        for i in range(len(nums2)-1,-1,-1):\r\n",
        "            while stack and stack[-1]<=nums2[i]:\r\n",
        "                stack.pop()\r\n",
        "            if nums2[i] in dic:\r\n",
        "                if stack:\r\n",
        "                    ans[dic[nums2[i]]]=stack[-1]\r\n",
        "                else:\r\n",
        "                    ans[dic[nums2[i]]]=-1\r\n",
        "            stack.append(nums2[i])\r\n",
        "        return ans\r\n",
        "                    \r\n",
        "                    "
      ],
      "execution_count": null,
      "outputs": []
    }
  ]
}