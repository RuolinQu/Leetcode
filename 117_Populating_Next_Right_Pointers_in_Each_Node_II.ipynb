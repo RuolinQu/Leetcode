{
  "nbformat": 4,
  "nbformat_minor": 0,
  "metadata": {
    "colab": {
      "name": "117. Populating Next Right Pointers in Each Node II",
      "provenance": [],
      "collapsed_sections": [],
      "authorship_tag": "ABX9TyOiKu24DVZDv03yC8mLp9/8",
      "include_colab_link": true
    },
    "kernelspec": {
      "name": "python3",
      "display_name": "Python 3"
    }
  },
  "cells": [
    {
      "cell_type": "markdown",
      "metadata": {
        "id": "view-in-github",
        "colab_type": "text"
      },
      "source": [
        "<a href=\"https://colab.research.google.com/github/RuolinQu/Leetcode/blob/main/117_Populating_Next_Right_Pointers_in_Each_Node_II.ipynb\" target=\"_parent\"><img src=\"https://colab.research.google.com/assets/colab-badge.svg\" alt=\"Open In Colab\"/></a>"
      ]
    },
    {
      "cell_type": "code",
      "metadata": {
        "id": "VmuYIDQ3dTPs"
      },
      "source": [
        "    def connect(self, root: 'Node') -> 'Node':\n",
        "        if not root: return None\n",
        "        \n",
        "        q = collections.deque([root])\n",
        "        while q:\n",
        "            width = len(q)\n",
        "            nextLevel = []\n",
        "            for _ in range(width):\n",
        "                node = q.popleft()\n",
        "                node.next = q[0] if q else None\n",
        "                if node.left: nextLevel.append(node.left)\n",
        "                if node.right: nextLevel.append(node.right)\n",
        "            q.extend(nextLevel)\n",
        "        return root"
      ],
      "execution_count": null,
      "outputs": []
    }
  ]
}