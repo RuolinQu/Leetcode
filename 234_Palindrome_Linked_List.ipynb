{
  "nbformat": 4,
  "nbformat_minor": 0,
  "metadata": {
    "colab": {
      "name": "234. Palindrome Linked List",
      "provenance": [],
      "collapsed_sections": [],
      "authorship_tag": "ABX9TyM8Ful9Is9jUPZOwiAXpJvX",
      "include_colab_link": true
    },
    "kernelspec": {
      "name": "python3",
      "display_name": "Python 3"
    }
  },
  "cells": [
    {
      "cell_type": "markdown",
      "metadata": {
        "id": "view-in-github",
        "colab_type": "text"
      },
      "source": [
        "<a href=\"https://colab.research.google.com/github/RuolinQu/Leetcode/blob/main/234_Palindrome_Linked_List.ipynb\" target=\"_parent\"><img src=\"https://colab.research.google.com/assets/colab-badge.svg\" alt=\"Open In Colab\"/></a>"
      ]
    },
    {
      "cell_type": "markdown",
      "metadata": {
        "id": "cnYmZXBwngTU"
      },
      "source": [
        ""
      ]
    },
    {
      "cell_type": "code",
      "metadata": {
        "id": "SCh-21sNnaf5"
      },
      "source": [
        "\r\n",
        "class Solution:\r\n",
        "    def isPalindrome(self, head: ListNode) -> bool:\r\n",
        "        if not head or not head.next:\r\n",
        "            return True\r\n",
        "        slow=fast=head\r\n",
        "        while fast.next and fast.next.next:\r\n",
        "            fast=fast.next.next\r\n",
        "            slow=slow.next\r\n",
        "        slow=slow.next\r\n",
        "        def reverse(root):\r\n",
        "            prev,cur=None,root\r\n",
        "            while cur:\r\n",
        "                nextnode=cur.next\r\n",
        "                cur.next=prev\r\n",
        "                prev=cur\r\n",
        "                cur=nextnode\r\n",
        "            return prev\r\n",
        "            \r\n",
        "        slow=reverse(slow)\r\n",
        "        while slow:\r\n",
        "            if head.val!=slow.val:return False\r\n",
        "            head=head.next\r\n",
        "            slow=slow.next\r\n",
        "        return True"
      ],
      "execution_count": null,
      "outputs": []
    }
  ]
}