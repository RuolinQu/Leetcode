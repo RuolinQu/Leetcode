{
  "nbformat": 4,
  "nbformat_minor": 0,
  "metadata": {
    "colab": {
      "name": "763. Partition Labels",
      "provenance": [],
      "collapsed_sections": [],
      "authorship_tag": "ABX9TyOBNeg9mj95EAvV60ab5HpZ",
      "include_colab_link": true
    },
    "kernelspec": {
      "name": "python3",
      "display_name": "Python 3"
    }
  },
  "cells": [
    {
      "cell_type": "markdown",
      "metadata": {
        "id": "view-in-github",
        "colab_type": "text"
      },
      "source": [
        "<a href=\"https://colab.research.google.com/github/RuolinQu/Leetcode/blob/main/763_Partition_Labels.ipynb\" target=\"_parent\"><img src=\"https://colab.research.google.com/assets/colab-badge.svg\" alt=\"Open In Colab\"/></a>"
      ]
    },
    {
      "cell_type": "markdown",
      "metadata": {
        "id": "biXFMgn40CKc"
      },
      "source": [
        "count=index-s_index+1\r\n",
        "\r\n",
        "update the index while loop"
      ]
    },
    {
      "cell_type": "code",
      "metadata": {
        "id": "8wDsoCqn2xZz"
      },
      "source": [
        "class Solution:\r\n",
        "    def partitionLabels(self, S: str) -> List[int]:\r\n",
        "        last_index={}\r\n",
        "        n=len(S)\r\n",
        "        for i in range(n):\r\n",
        "            last_index[S[i]]=i\r\n",
        "        s_index,index=0,0\r\n",
        "        ans=[]\r\n",
        "        for i,c in enumerate(S):\r\n",
        "            index=max(index,last_index[c])\r\n",
        "            if index==i:\r\n",
        "                ans.append(index-s_index+1)\r\n",
        "                s_index=i+1\r\n",
        "        return ans\r\n",
        "            \r\n",
        "        \r\n",
        "        \r\n",
        "        "
      ],
      "execution_count": null,
      "outputs": []
    }
  ]
}