{
  "nbformat": 4,
  "nbformat_minor": 0,
  "metadata": {
    "colab": {
      "name": "291. Word Pattern II",
      "provenance": [],
      "collapsed_sections": [],
      "authorship_tag": "ABX9TyOwc1w1xVdZv68QrHm1AEOW",
      "include_colab_link": true
    },
    "kernelspec": {
      "name": "python3",
      "display_name": "Python 3"
    }
  },
  "cells": [
    {
      "cell_type": "markdown",
      "metadata": {
        "id": "view-in-github",
        "colab_type": "text"
      },
      "source": [
        "<a href=\"https://colab.research.google.com/github/RuolinQu/Leetcode/blob/main/291_Word_Pattern_II.ipynb\" target=\"_parent\"><img src=\"https://colab.research.google.com/assets/colab-badge.svg\" alt=\"Open In Colab\"/></a>"
      ]
    },
    {
      "cell_type": "markdown",
      "metadata": {
        "id": "-tbMJKT6QUs4"
      },
      "source": [
        "bi-mapping, check if the pattern letter in dic\r\n",
        "\r\n",
        "if in dic: recursion next level\r\n",
        "\r\n",
        "else: go through each word split\r\n",
        "\r\n",
        "O(n^m) n:len(s) m:len(pattern)\r\n",
        "\r\n",
        "https://keaoxu.files.wordpress.com/2018/08/permutation_output_algo_analysis.pdf"
      ]
    },
    {
      "cell_type": "code",
      "metadata": {
        "id": "SCh-21sNnaf5"
      },
      "source": [
        "class Solution:\r\n",
        "    def wordPatternMatch(self, pattern: str, s: str) -> bool:\r\n",
        "        def helper(pattern,s,dic,seen):\r\n",
        "            if not len(pattern) and not len(s):\r\n",
        "                return True\r\n",
        "            if not len(pattern) or not len(s):\r\n",
        "                return False\r\n",
        "            ch=pattern[0]\r\n",
        "            if ch in dic:\r\n",
        "                if dic[ch]==s[:len(dic[ch])]:\r\n",
        "                    return helper(pattern[1:],s[len(dic[ch]):],dic,seen)\r\n",
        "            else:\r\n",
        "                for i in range(len(s)):\r\n",
        "                    word=s[:i+1]\r\n",
        "                    if word in seen:\r\n",
        "                        continue\r\n",
        "                    dic[ch]=word\r\n",
        "                    seen.add(word)\r\n",
        "                    if helper(pattern[1:],s[i+1:],dic,seen):return True\r\n",
        "                    del dic[ch]\r\n",
        "                    seen.remove(word)\r\n",
        "            return False\r\n",
        "        return helper(pattern,s,{},set())\r\n",
        "        \r\n",
        "        \r\n",
        "        \r\n",
        "        "
      ],
      "execution_count": null,
      "outputs": []
    }
  ]
}