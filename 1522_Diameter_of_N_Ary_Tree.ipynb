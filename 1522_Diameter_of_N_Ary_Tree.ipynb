{
  "nbformat": 4,
  "nbformat_minor": 0,
  "metadata": {
    "colab": {
      "name": "1522. Diameter of N-Ary Tree",
      "provenance": [],
      "collapsed_sections": [],
      "authorship_tag": "ABX9TyOJHX+E1VxVIOAelxMnAApy",
      "include_colab_link": true
    },
    "kernelspec": {
      "name": "python3",
      "display_name": "Python 3"
    }
  },
  "cells": [
    {
      "cell_type": "markdown",
      "metadata": {
        "id": "view-in-github",
        "colab_type": "text"
      },
      "source": [
        "<a href=\"https://colab.research.google.com/github/RuolinQu/Leetcode/blob/main/1522_Diameter_of_N_Ary_Tree.ipynb\" target=\"_parent\"><img src=\"https://colab.research.google.com/assets/colab-badge.svg\" alt=\"Open In Colab\"/></a>"
      ]
    },
    {
      "cell_type": "markdown",
      "metadata": {
        "id": "qW1BW0Jcdu1i"
      },
      "source": [
        ""
      ]
    },
    {
      "cell_type": "code",
      "metadata": {
        "id": "X691e6xBVMj4"
      },
      "source": [
        "\"\"\"\r\n",
        "# Definition for a Node.\r\n",
        "class Node:\r\n",
        "    def __init__(self, val=None, children=None):\r\n",
        "        self.val = val\r\n",
        "        self.children = children if children is not None else []\r\n",
        "\"\"\"\r\n",
        "\r\n",
        "class Solution:\r\n",
        "    def diameter(self, root: 'Node') -> int:\r\n",
        "        \"\"\"\r\n",
        "        :type root: 'Node'\r\n",
        "        :rtype: int\r\n",
        "        \"\"\"\r\n",
        "        ans=0\r\n",
        "        def helper(node):\r\n",
        "            if not node or not node.children:return 0\r\n",
        "            s1,s2=0,0\r\n",
        "            total=0\r\n",
        "            for child in node.children:\r\n",
        "                total+=1\r\n",
        "                depth=helper(child)\r\n",
        "                if min(s1,s2)<depth:\r\n",
        "                    if s1<s2:s1=depth\r\n",
        "                    else: s2=depth\r\n",
        "            nonlocal ans\r\n",
        "            if total>2:total=2\r\n",
        "            ans=max(ans,s1+s2+total)\r\n",
        "            return max(s1,s2)+1 \r\n",
        "        helper(root)\r\n",
        "        return ans\r\n",
        "            "
      ],
      "execution_count": null,
      "outputs": []
    }
  ]
}