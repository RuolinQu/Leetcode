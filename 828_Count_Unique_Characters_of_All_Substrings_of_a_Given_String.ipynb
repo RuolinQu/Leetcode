{
  "nbformat": 4,
  "nbformat_minor": 0,
  "metadata": {
    "colab": {
      "name": "828. Count Unique Characters of All Substrings of a Given String",
      "provenance": [],
      "collapsed_sections": [],
      "authorship_tag": "ABX9TyPMkAWAENa4cP/yqjAip4a+",
      "include_colab_link": true
    },
    "kernelspec": {
      "name": "python3",
      "display_name": "Python 3"
    }
  },
  "cells": [
    {
      "cell_type": "markdown",
      "metadata": {
        "id": "view-in-github",
        "colab_type": "text"
      },
      "source": [
        "<a href=\"https://colab.research.google.com/github/RuolinQu/Leetcode/blob/main/828_Count_Unique_Characters_of_All_Substrings_of_a_Given_String.ipynb\" target=\"_parent\"><img src=\"https://colab.research.google.com/assets/colab-badge.svg\" alt=\"Open In Colab\"/></a>"
      ]
    },
    {
      "cell_type": "markdown",
      "metadata": {
        "id": "zpCK58Lq64cM"
      },
      "source": [
        "O(n)\r\n",
        "\r\n",
        "%(10**9+7)\r\n",
        "\r\n",
        "空间dp\r\n",
        "\r\n",
        "refresh by num, and do mod opreation"
      ]
    },
    {
      "cell_type": "code",
      "metadata": {
        "id": "70Sxr6D4tM0E"
      },
      "source": [
        "Let dp[i] is sum of unique char in all substring ending at i, then the answer is sum(dp[i]), i=[0..n-1]. It's not difficult to get the recursive formula:\r\n",
        "\r\n",
        "dp[i] = dp[i-1] + (i - first_from_i(s[i])) - (first_from_i(s[i]) - second_from_i(s[i]))\r\n",
        "\r\n",
        "initial[first,sec]=[-1,-1]\r\n",
        "\r\n",
        " 1.first-second==0 so first==second\r\n",
        " \r\n",
        " 2.index-first=index+1 so index==1"
      ],
      "execution_count": null,
      "outputs": []
    },
    {
      "cell_type": "code",
      "metadata": {
        "id": "SCh-21sNnaf5"
      },
      "source": [
        "class Solution:\r\n",
        "    def uniqueLetterString(self, s: str) -> int:\r\n",
        "       res=lastdp=0\r\n",
        "       dic=[[-1,-1] for _ in range(26)]#(rightmost,secondright)\r\n",
        "       for i in range(len(s)):\r\n",
        "           first,sec=dic[ord(s[i])-ord('A')]\r\n",
        "           lastdp+=i-2*first+sec\r\n",
        "           res+=lastdp#current dp[i]\r\n",
        "           dic[ord(s[i])-ord('A')]=[i,first]#update letter \r\n",
        "       return res%(10**9 + 7)\r\n",
        "             \r\n",
        "        "
      ],
      "execution_count": null,
      "outputs": []
    }
  ]
}