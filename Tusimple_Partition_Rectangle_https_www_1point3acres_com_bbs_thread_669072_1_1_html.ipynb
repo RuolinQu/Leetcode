{
  "nbformat": 4,
  "nbformat_minor": 0,
  "metadata": {
    "colab": {
      "name": "Tusimple Partition Rectangle : https://www.1point3acres.com/bbs/thread-669072-1-1.html",
      "provenance": [],
      "collapsed_sections": [],
      "authorship_tag": "ABX9TyMzCdT7n0Ae0KacUWQFJuDI",
      "include_colab_link": true
    },
    "kernelspec": {
      "name": "python3",
      "display_name": "Python 3"
    }
  },
  "cells": [
    {
      "cell_type": "markdown",
      "metadata": {
        "id": "view-in-github",
        "colab_type": "text"
      },
      "source": [
        "<a href=\"https://colab.research.google.com/github/RuolinQu/Leetcode/blob/main/Tusimple_Partition_Rectangle_https_www_1point3acres_com_bbs_thread_669072_1_1_html.ipynb\" target=\"_parent\"><img src=\"https://colab.research.google.com/assets/colab-badge.svg\" alt=\"Open In Colab\"/></a>"
      ]
    },
    {
      "cell_type": "markdown",
      "metadata": {
        "id": "qW1BW0Jcdu1i"
      },
      "source": [
        "其实发挥的不太好，题目是给定一个01矩阵，1上不能放东西，然后给一个rectangle size列表[[3,4], [1,2]]代表两个矩形一个3x4, 一个1x2\r\n",
        "如果这写矩形全部能放进这个矩阵，返回true否则false\r\n",
        "\r\n",
        "脑子一糊涂一开始就greedy做了，先放最宽的，后来面试官提醒说这有问题，才想起来赶紧改成backtracking\r\n",
        "虽然逻辑不复杂，但是要判断的东西挺多的，反正写的不是很顺利，大概30分钟写出basic solution，time complexity(MNRC), M，N是矩阵的长宽，R,C是矩形的长宽\r\n",
        "\r\n",
        "follow up, 只放一个矩形，求所有可能的方式，我想到的leetcode里max rect的方法，就记录了每个点右边连续0的数量，然后check每个点（当做矩形的左下端点）, O(MNC)\r\n",
        "其实也没时间实现，写了些伪代码讨论了具体思路，面试官表示还可以优化到O(MN)但是没时间了，这个solution他认为也是acceptable的\r\n"
      ]
    },
    {
      "cell_type": "code",
      "metadata": {
        "id": "X691e6xBVMj4",
        "colab": {
          "base_uri": "https://localhost:8080/"
        },
        "outputId": "76aa772f-2cb1-46a4-a427-84060302bd27"
      },
      "source": [
        "def isfit(rectangles,board):\r\n",
        "  def is_vaild(board,rec,i,j,direc):\r\n",
        "    w,h=len(board[0]),len(board[0])\r\n",
        "    if direc==\"h\":\r\n",
        "      m,n=len(rec),len(rec[0])\r\n",
        "    elif direc=='v':\r\n",
        "      m,n=len(rec[0]),len(rec)\r\n",
        "    for dx in range(m):\r\n",
        "      for dy in range(n):\r\n",
        "        x,y=i+dx,j+dy\r\n",
        "        if 0<=x<w and 0<=y<h and board[x][y]==0:continue\r\n",
        "        else:return False\r\n",
        "    return True\r\n",
        "  \r\n",
        "  def update(board,x,y,dx,dy):\r\n",
        "    for i in range(dx):\r\n",
        "      for j in range(dy):\r\n",
        "        board[x+i][y+j]=1\r\n",
        "\r\n",
        "  def backtracking(rec,board):\r\n",
        "    if len(rec)==0:return True\r\n",
        "    cur_rec=rec[0]\r\n",
        "    m,n=len(board),len(board[0])\r\n",
        "    m1,n1=len(cur_rec),len(cur_rec[0])\r\n",
        "    for i in range(m):\r\n",
        "      for j in range(n):\r\n",
        "        if board[i][j]==0 and is_vaild(board,cur_rec,i,j,\"h\"):\r\n",
        "          tmp_board=[[board[b][a] for a in range(n)]for b in range(m)]\r\n",
        "          print(tmp_board)\r\n",
        "          update(tmp_board,i,j,m1,n1)\r\n",
        "          print(tmp_board,\"!\")\r\n",
        "          if backtracking(rec[1:],tmp_board):\r\n",
        "            return True\r\n",
        "        elif board[i][j]==0 and is_vaild(board,cur_rec,i,j,\"v\"):\r\n",
        "          tmp_board=[[board[b][a] for a in range(n)]for b in range(m)]\r\n",
        "          print(tmp_board)\r\n",
        "          update(tmp_board,i,j,n1,m1)\r\n",
        "          print(tmp_board,\"?\")\r\n",
        "          if backtracking(rec[1:],tmp_board):\r\n",
        "            return True\r\n",
        "    return False\r\n",
        "  return backtracking(rectangles,board)\r\n",
        "\r\n",
        "isfit( [[[1,1]],\r\n",
        "    [[1,1]]],\r\n",
        "    \r\n",
        "    [[1,0,1],\r\n",
        "    [1,1,1],\r\n",
        "    [1,0,0]])"
      ],
      "execution_count": null,
      "outputs": [
        {
          "output_type": "stream",
          "text": [
            "[[1, 0, 1], [1, 1, 1], [1, 0, 0]]\n",
            "[[1, 0, 1], [1, 1, 1], [1, 1, 1]] !\n"
          ],
          "name": "stdout"
        },
        {
          "output_type": "execute_result",
          "data": {
            "text/plain": [
              "False"
            ]
          },
          "metadata": {
            "tags": []
          },
          "execution_count": 20
        }
      ]
    }
  ]
}