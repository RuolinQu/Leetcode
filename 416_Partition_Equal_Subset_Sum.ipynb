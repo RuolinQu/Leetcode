{
  "nbformat": 4,
  "nbformat_minor": 0,
  "metadata": {
    "colab": {
      "name": "416. Partition Equal Subset Sum",
      "provenance": [],
      "collapsed_sections": [],
      "authorship_tag": "ABX9TyPjB2mrt7+PppFbS3w4IF+X",
      "include_colab_link": true
    },
    "kernelspec": {
      "name": "python3",
      "display_name": "Python 3"
    }
  },
  "cells": [
    {
      "cell_type": "markdown",
      "metadata": {
        "id": "view-in-github",
        "colab_type": "text"
      },
      "source": [
        "<a href=\"https://colab.research.google.com/github/RuolinQu/Leetcode/blob/main/416_Partition_Equal_Subset_Sum.ipynb\" target=\"_parent\"><img src=\"https://colab.research.google.com/assets/colab-badge.svg\" alt=\"Open In Colab\"/></a>"
      ]
    },
    {
      "cell_type": "markdown",
      "metadata": {
        "id": "cnYmZXBwngTU"
      },
      "source": [
        "dp[i] if we can reach sum i so far \r\n",
        "\r\n",
        "dp[i][j] form index 0 to i, if the sum j can be reach\r\n",
        "\r\n",
        "dp[i]: positive number, backward iteration: for j in range(total,-1,-1)"
      ]
    },
    {
      "cell_type": "code",
      "metadata": {
        "id": "SCh-21sNnaf5"
      },
      "source": [
        "class Solution:\r\n",
        "    def canPartition(self, nums: List[int]) -> bool:\r\n",
        "        n=len(nums)\r\n",
        "        total=sum(nums)\r\n",
        "        if total%2!=0:\r\n",
        "             return False\r\n",
        "        total=total//2\r\n",
        "        dp=[False for i in range(total+1)]\r\n",
        "        dp[0]=True\r\n",
        "        for i in range(n):\r\n",
        "            for j in range(total,-1,-1):\r\n",
        "                if dp[j] and j+nums[i]<=total:\r\n",
        "                    dp[j+nums[i]]=True\r\n",
        "                    if j+nums[i]==total:\r\n",
        "                        return True\r\n",
        "        return False\r\n",
        "        \r\n",
        "        \r\n",
        "        \r\n",
        "        \r\n",
        "        \r\n",
        "        # dp=[[False for j in range(total+1)]for i in range(n+1)]\r\n",
        "        # dp[0][0]=True\r\n",
        "        # for i in range(1,n+1):\r\n",
        "        #     for j in range(total+1):\r\n",
        "        #         if dp[i-1][j]:\r\n",
        "        #             dp[i][j]=True\r\n",
        "        #             if j+nums[i-1]<=total:\r\n",
        "        #                 dp[i][j+nums[i-1]]=True\r\n",
        "        #                 if j+nums[i-1]==total:\r\n",
        "        #                     return True\r\n",
        "        # return False\r\n",
        "        \r\n",
        "        \r\n",
        "        \r\n",
        "        "
      ],
      "execution_count": null,
      "outputs": []
    }
  ]
}