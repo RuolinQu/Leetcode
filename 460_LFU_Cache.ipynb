{
  "nbformat": 4,
  "nbformat_minor": 0,
  "metadata": {
    "colab": {
      "name": "460. LFU Cache",
      "provenance": [],
      "collapsed_sections": [],
      "authorship_tag": "ABX9TyOvgrq7IGOHWX4tfRRL/70/",
      "include_colab_link": true
    },
    "kernelspec": {
      "name": "python3",
      "display_name": "Python 3"
    }
  },
  "cells": [
    {
      "cell_type": "markdown",
      "metadata": {
        "id": "view-in-github",
        "colab_type": "text"
      },
      "source": [
        "<a href=\"https://colab.research.google.com/github/RuolinQu/Leetcode/blob/main/460_LFU_Cache.ipynb\" target=\"_parent\"><img src=\"https://colab.research.google.com/assets/colab-badge.svg\" alt=\"Open In Colab\"/></a>"
      ]
    },
    {
      "cell_type": "markdown",
      "metadata": {
        "id": "cnYmZXBwngTU"
      },
      "source": [
        "Node(key,value,freq)\r\n",
        "\r\n",
        "key-> node\r\n",
        "\r\n",
        "//key->freq\r\n",
        "\r\n",
        "freq->key(order)->Node"
      ]
    },
    {
      "cell_type": "code",
      "metadata": {
        "id": "SCh-21sNnaf5"
      },
      "source": [
        "from collections import defaultdict\r\n",
        "from collections import OrderedDict\r\n",
        "\r\n",
        "class Node:\r\n",
        "    def __init__(self,key,value,freq):\r\n",
        "        self.key=key\r\n",
        "        self.val=value\r\n",
        "        self.freq=freq\r\n",
        "        \r\n",
        "\r\n",
        "\r\n",
        "class LFUCache:\r\n",
        "\r\n",
        "    def __init__(self, capacity: int):\r\n",
        "        self.cap=capacity\r\n",
        "        self.dic=defaultdict(int)\r\n",
        "        self.fdic=defaultdict(OrderedDict)\r\n",
        "        self.min_freq=0\r\n",
        "        \r\n",
        "\r\n",
        "    def get(self, key: int) -> int:\r\n",
        "        if key not in self.dic:return -1\r\n",
        "        node=self.dic[key]\r\n",
        "        del self.fdic[node.freq][key]\r\n",
        "        \r\n",
        "        if not self.fdic[node.freq]:\r\n",
        "            del self.fdic[node.freq]\r\n",
        "        node.freq+=1\r\n",
        "        self.fdic[node.freq][key]=node\r\n",
        "        \r\n",
        "        if not self.fdic[self.min_freq]:self.min_freq+=1\r\n",
        "        return node.val\r\n",
        "            \r\n",
        "\r\n",
        "    def put(self, key: int, value: int) -> None:\r\n",
        "        if not self.cap:return\r\n",
        "        # in dic\r\n",
        "        if key in self.dic:\r\n",
        "            self.dic[key].val=value\r\n",
        "            self.get(key)\r\n",
        "            return\r\n",
        "        \r\n",
        "        # cap\r\n",
        "        if len(self.dic)==self.cap:\r\n",
        "            k,n=self.fdic[self.min_freq].popitem(last=False)\r\n",
        "            del self.dic[k]\r\n",
        "        \r\n",
        "        node=Node(key,value,1)\r\n",
        "        self.dic[key]=node\r\n",
        "        self.fdic[1][key]=node\r\n",
        "        self.min_freq=1\r\n",
        "        return\r\n",
        "        \r\n",
        "        "
      ],
      "execution_count": null,
      "outputs": []
    }
  ]
}