{
  "nbformat": 4,
  "nbformat_minor": 0,
  "metadata": {
    "colab": {
      "name": "773. Sliding Puzzle",
      "provenance": [],
      "collapsed_sections": [],
      "authorship_tag": "ABX9TyPKGWjOoiCHclq8oP2PDLEl",
      "include_colab_link": true
    },
    "kernelspec": {
      "name": "python3",
      "display_name": "Python 3"
    }
  },
  "cells": [
    {
      "cell_type": "markdown",
      "metadata": {
        "id": "view-in-github",
        "colab_type": "text"
      },
      "source": [
        "<a href=\"https://colab.research.google.com/github/RuolinQu/Leetcode/blob/main/773_Sliding_Puzzle.ipynb\" target=\"_parent\"><img src=\"https://colab.research.google.com/assets/colab-badge.svg\" alt=\"Open In Colab\"/></a>"
      ]
    },
    {
      "cell_type": "markdown",
      "metadata": {
        "id": "zpCK58Lq64cM"
      },
      "source": [
        "bfs: time& space: O((m*n)!)"
      ]
    },
    {
      "cell_type": "code",
      "metadata": {
        "id": "SCh-21sNnaf5"
      },
      "source": [
        "class Solution:\r\n",
        "    def slidingPuzzle(self, board: List[List[int]]) -> int:\r\n",
        "        dic={0:(1,3),1:(0,2,4),2:(1,5),3:(0,4),4:(1,3,5),5:(2,4)}\r\n",
        "        seen=set()\r\n",
        "        st=\"\"\r\n",
        "        for i in range(len(board)):\r\n",
        "            for j in range(len(board[0])):\r\n",
        "                st+=str(board[i][j])\r\n",
        "        queue=collections.deque([(st,st.index('0'),0)])\r\n",
        "        while queue:\r\n",
        "            st,pos,step=queue.popleft()\r\n",
        "            if st==\"123450\":return step\r\n",
        "            for move in dic[pos]:\r\n",
        "                tmp=list(st)\r\n",
        "                tmp[move],tmp[pos]=tmp[pos],tmp[move]\r\n",
        "                new_st=\"\".join(tmp)\r\n",
        "                if new_st not in seen:\r\n",
        "                    seen.add(new_st)\r\n",
        "                    queue.append((new_st,move,step+1))\r\n",
        "        return -1\r\n",
        "                \r\n",
        "                \r\n",
        "        "
      ],
      "execution_count": null,
      "outputs": []
    }
  ]
}