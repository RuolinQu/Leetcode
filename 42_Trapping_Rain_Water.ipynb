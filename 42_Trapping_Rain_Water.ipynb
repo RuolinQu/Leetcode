{
  "nbformat": 4,
  "nbformat_minor": 0,
  "metadata": {
    "colab": {
      "name": "42. Trapping Rain Water",
      "provenance": [],
      "collapsed_sections": [],
      "authorship_tag": "ABX9TyMFUpQqAiNMbLb5XBb5Y2ow",
      "include_colab_link": true
    },
    "kernelspec": {
      "name": "python3",
      "display_name": "Python 3"
    }
  },
  "cells": [
    {
      "cell_type": "markdown",
      "metadata": {
        "id": "view-in-github",
        "colab_type": "text"
      },
      "source": [
        "<a href=\"https://colab.research.google.com/github/RuolinQu/Leetcode/blob/main/42_Trapping_Rain_Water.ipynb\" target=\"_parent\"><img src=\"https://colab.research.google.com/assets/colab-badge.svg\" alt=\"Open In Colab\"/></a>"
      ]
    },
    {
      "cell_type": "code",
      "metadata": {
        "id": "8wDsoCqn2xZz",
        "colab": {
          "base_uri": "https://localhost:8080/"
        },
        "outputId": "2fcc15e4-7a1a-4bcb-e25e-6527684c320f"
      },
      "source": [
        "    def trap(self, height: List[int]) -> int:\n",
        "        if not height:return 0\n",
        "        maxl,maxr=height[0],height[-1]\n",
        "        i,j=0,len(height)-1\n",
        "        ans=0\n",
        "        while i<j:\n",
        "            if maxl<maxr:\n",
        "                i+=1\n",
        "                maxl=max(maxl,height[i])\n",
        "                ans+=maxl-height[i]\n",
        "            else:\n",
        "                j-=1\n",
        "                maxr=max(maxr,height[j])\n",
        "                ans+=maxr-height[j]\n",
        "        return ans\n"
      ],
      "execution_count": null,
      "outputs": [
        {
          "output_type": "stream",
          "text": [
            "[[0, 0, 0, 0, 0], [0, 1, 1, 2, 2], [0, 1, 2, 3, 4], [0, 2, 4, 6, 7], [0, 3, 5, 7, 9], [0, 3, 5, 8, 10], [0, 3, 6, 9, 12]]\n",
            "True\n"
          ],
          "name": "stdout"
        }
      ]
    },
    {
      "cell_type": "code",
      "metadata": {
        "id": "VmuYIDQ3dTPs"
      },
      "source": [
        ""
      ],
      "execution_count": null,
      "outputs": []
    }
  ]
}