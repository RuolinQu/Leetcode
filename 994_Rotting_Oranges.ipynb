{
  "nbformat": 4,
  "nbformat_minor": 0,
  "metadata": {
    "colab": {
      "name": "994. Rotting Oranges",
      "provenance": [],
      "collapsed_sections": [],
      "authorship_tag": "ABX9TyMprXEoDukiiRBtjS3t+uJZ",
      "include_colab_link": true
    },
    "kernelspec": {
      "name": "python3",
      "display_name": "Python 3"
    }
  },
  "cells": [
    {
      "cell_type": "markdown",
      "metadata": {
        "id": "view-in-github",
        "colab_type": "text"
      },
      "source": [
        "<a href=\"https://colab.research.google.com/github/RuolinQu/Leetcode/blob/main/994_Rotting_Oranges.ipynb\" target=\"_parent\"><img src=\"https://colab.research.google.com/assets/colab-badge.svg\" alt=\"Open In Colab\"/></a>"
      ]
    },
    {
      "cell_type": "markdown",
      "metadata": {
        "id": "cnYmZXBwngTU"
      },
      "source": [
        "day start from -1 \r\n",
        "for bfs:\r\n",
        "  day+=1\r\n",
        "  rotting\r\n",
        "if num==total return day else -1"
      ]
    },
    {
      "cell_type": "code",
      "metadata": {
        "id": "SCh-21sNnaf5"
      },
      "source": [
        "class Solution:\r\n",
        "     def orangesRotting(self, grid: List[List[int]]) -> int:\r\n",
        "\r\n",
        "        m,n=len(grid),len(grid[0])\r\n",
        "        directions=[(1,0),(-1,0),(0,1),(0,-1)]\r\n",
        "        seen=set()\r\n",
        "        bfs=collections.deque([])\r\n",
        "        num=count=day=turn=0\r\n",
        "        for i in range(m):\r\n",
        "            for j in range(n):\r\n",
        "                if grid[i][j]==2:\r\n",
        "                    bfs.append((i,j))\r\n",
        "                    count+=1\r\n",
        "                elif grid[i][j]==1:\r\n",
        "                    num+=1\r\n",
        "        if not num:return 0\r\n",
        "        while bfs:\r\n",
        "            new_count=0\r\n",
        "            while count:\r\n",
        "                i,j=bfs.popleft()\r\n",
        "                count-=1\r\n",
        "                for dx,dy in directions:\r\n",
        "                    x,y=i+dx,j+dy\r\n",
        "                    if 0<=x<m and 0<=y<n and grid[x][y]==1 and (x,y) not in bfs:\r\n",
        "                        grid[x][y]=2\r\n",
        "                        turn+=1\r\n",
        "                        bfs.append((x,y))\r\n",
        "                        new_count+=1\r\n",
        "            day+=1\r\n",
        "            count=new_count\r\n",
        "        return day-1 if num==turn else -1\r\n",
        "        \r\n",
        "        \r\n",
        "        \r\n",
        "        "
      ],
      "execution_count": null,
      "outputs": []
    }
  ]
}