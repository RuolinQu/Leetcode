{
  "nbformat": 4,
  "nbformat_minor": 0,
  "metadata": {
    "colab": {
      "name": "290. Word Pattern",
      "provenance": [],
      "collapsed_sections": [],
      "authorship_tag": "ABX9TyNdXXaBVbdAlQmpvKtkiNm+",
      "include_colab_link": true
    },
    "kernelspec": {
      "name": "python3",
      "display_name": "Python 3"
    }
  },
  "cells": [
    {
      "cell_type": "markdown",
      "metadata": {
        "id": "view-in-github",
        "colab_type": "text"
      },
      "source": [
        "<a href=\"https://colab.research.google.com/github/RuolinQu/Leetcode/blob/main/290_Word_Pattern.ipynb\" target=\"_parent\"><img src=\"https://colab.research.google.com/assets/colab-badge.svg\" alt=\"Open In Colab\"/></a>"
      ]
    },
    {
      "cell_type": "markdown",
      "metadata": {
        "id": "zpCK58Lq64cM"
      },
      "source": [
        "length,\r\n",
        "only mapping"
      ]
    },
    {
      "cell_type": "code",
      "metadata": {
        "id": "SCh-21sNnaf5"
      },
      "source": [
        "class Solution:\r\n",
        "    def wordPattern(self, pattern: str, s: str) -> bool:\r\n",
        "        dic=collections.defaultdict(str)\r\n",
        "        index=0\r\n",
        "        seen=set()\r\n",
        "        arr=s.split(\" \")\r\n",
        "        if len(arr)!=len(pattern):return False\r\n",
        "        for word in arr:\r\n",
        "            key=pattern[index]\r\n",
        "            if key in dic:\r\n",
        "                if dic[key]!=word:return False\r\n",
        "            else:\r\n",
        "                if word in seen:return False\r\n",
        "                dic[key]=word\r\n",
        "                seen.add(word)\r\n",
        "            index+=1\r\n",
        "        return True\r\n",
        "        \r\n",
        "        \r\n",
        "        \r\n",
        "        \r\n",
        "        \r\n",
        "        "
      ],
      "execution_count": null,
      "outputs": []
    }
  ]
}