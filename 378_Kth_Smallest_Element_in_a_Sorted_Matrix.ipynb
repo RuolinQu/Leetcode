{
  "nbformat": 4,
  "nbformat_minor": 0,
  "metadata": {
    "colab": {
      "name": "378. Kth Smallest Element in a Sorted Matrix",
      "provenance": [],
      "collapsed_sections": [],
      "authorship_tag": "ABX9TyOCUkZD0QHKMTUicNKjnFQk",
      "include_colab_link": true
    },
    "kernelspec": {
      "name": "python3",
      "display_name": "Python 3"
    }
  },
  "cells": [
    {
      "cell_type": "markdown",
      "metadata": {
        "id": "view-in-github",
        "colab_type": "text"
      },
      "source": [
        "<a href=\"https://colab.research.google.com/github/RuolinQu/Leetcode/blob/main/378_Kth_Smallest_Element_in_a_Sorted_Matrix.ipynb\" target=\"_parent\"><img src=\"https://colab.research.google.com/assets/colab-badge.svg\" alt=\"Open In Colab\"/></a>"
      ]
    },
    {
      "cell_type": "code",
      "metadata": {
        "id": "X691e6xBVMj4"
      },
      "source": [
        "class Solution:\r\n",
        "    def kthSmallest(self,matrix, k):\r\n",
        "        heap=[]\r\n",
        "        c=len(matrix[0])\r\n",
        "        for i in range(min(k,len(matrix))):\r\n",
        "            heappush(heap,(matrix[i][0],i,0))\r\n",
        "        while k>0:\r\n",
        "            k-=1\r\n",
        "            num,row,col=heappop(heap)\r\n",
        "            if k==0:return num\r\n",
        "            elif col<c-1:\r\n",
        "                heappush(heap,(matrix[row][col+1],row,col+1))\r\n",
        "            \r\n",
        "            \r\n",
        "        \r\n",
        "        "
      ],
      "execution_count": null,
      "outputs": []
    }
  ]
}