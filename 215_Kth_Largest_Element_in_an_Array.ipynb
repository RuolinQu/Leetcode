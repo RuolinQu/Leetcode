{
  "nbformat": 4,
  "nbformat_minor": 0,
  "metadata": {
    "colab": {
      "name": "215. Kth Largest Element in an Array",
      "provenance": [],
      "collapsed_sections": [],
      "authorship_tag": "ABX9TyMABBpedhFQfZcsDcNjNwan",
      "include_colab_link": true
    },
    "kernelspec": {
      "name": "python3",
      "display_name": "Python 3"
    }
  },
  "cells": [
    {
      "cell_type": "markdown",
      "metadata": {
        "id": "view-in-github",
        "colab_type": "text"
      },
      "source": [
        "<a href=\"https://colab.research.google.com/github/RuolinQu/Leetcode/blob/main/215_Kth_Largest_Element_in_an_Array.ipynb\" target=\"_parent\"><img src=\"https://colab.research.google.com/assets/colab-badge.svg\" alt=\"Open In Colab\"/></a>"
      ]
    },
    {
      "cell_type": "markdown",
      "metadata": {
        "id": "OM192VapVMzS"
      },
      "source": [
        "https://www.bilibili.com/video/BV18a4y1e7BC?from=search&seid=4182689969952862058"
      ]
    },
    {
      "cell_type": "code",
      "metadata": {
        "id": "X691e6xBVMj4"
      },
      "source": [
        "import random\r\n",
        "class Solution:    \r\n",
        "#1111111111111\r\n",
        "\r\n",
        "    def findKthLargest(self, nums, k):\r\n",
        "        def quickselection(nums,l,r):\r\n",
        "            index=random.randint(l,r)\r\n",
        "            nums[index],nums[l]=nums[l],nums[index]\r\n",
        "            i,j,pivot=l,r,nums[l]\r\n",
        "            while i<j:\r\n",
        "                while i<j and nums[j]<=pivot:j-=1\r\n",
        "                while i<j and nums[i]>=pivot:i+=1\r\n",
        "                if i<j: nums[i],nums[j]=nums[j],nums[i]\r\n",
        "            nums[l],nums[j]=nums[j],nums[l]\r\n",
        "            return i\r\n",
        "        n=len(nums)\r\n",
        "        l,r=0,n-1\r\n",
        "        while True:\r\n",
        "            idx=quickselection(nums,l,r)\r\n",
        "            if idx==k-1:return nums[idx]\r\n",
        "            elif idx<k-1: l=idx+1\r\n",
        "            else: r=idx-1\r\n",
        "        \r\n",
        "        \r\n",
        "        "
      ],
      "execution_count": null,
      "outputs": []
    }
  ]
}