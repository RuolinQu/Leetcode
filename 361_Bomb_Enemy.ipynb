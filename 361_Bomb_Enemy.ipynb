{
  "nbformat": 4,
  "nbformat_minor": 0,
  "metadata": {
    "colab": {
      "name": "361. Bomb Enemy",
      "provenance": [],
      "collapsed_sections": [],
      "authorship_tag": "ABX9TyOJyXXCepJkluVcmOQZsof9",
      "include_colab_link": true
    },
    "kernelspec": {
      "name": "python3",
      "display_name": "Python 3"
    }
  },
  "cells": [
    {
      "cell_type": "markdown",
      "metadata": {
        "id": "view-in-github",
        "colab_type": "text"
      },
      "source": [
        "<a href=\"https://colab.research.google.com/github/RuolinQu/Leetcode/blob/main/361_Bomb_Enemy.ipynb\" target=\"_parent\"><img src=\"https://colab.research.google.com/assets/colab-badge.svg\" alt=\"Open In Colab\"/></a>"
      ]
    },
    {
      "cell_type": "markdown",
      "metadata": {
        "id": "-KHh6dM0Rykv"
      },
      "source": [
        "左上，右下dp"
      ]
    },
    {
      "cell_type": "code",
      "metadata": {
        "id": "8wDsoCqn2xZz"
      },
      "source": [
        "class Solution:\r\n",
        "    def maxKilledEnemies(self, grid) -> int:\r\n",
        "        if not grid:return 0\r\n",
        "        m,n=len(grid),len(grid[0])\r\n",
        "        dp_l=[[0 for i in range(n)]for j in range(m)]\r\n",
        "        dp_r=[[0 for i in range(n)]for j in range(m)]\r\n",
        "        dp_u=[[0 for i in range(n)]for j in range(m)]\r\n",
        "        dp_d=[[0 for i in range(n)]for j in range(m)]\r\n",
        "        for i in range(m):\r\n",
        "            for j in range(n):\r\n",
        "                if grid[i][j]==\"W\":continue\r\n",
        "                if i>0:\r\n",
        "                    dp_l[i][j]=dp_l[i-1][j]\r\n",
        "                    if grid[i-1][j]==\"E\":dp_l[i][j]+=1\r\n",
        "                if j>0:\r\n",
        "                    dp_u[i][j]=dp_u[i][j-1]\r\n",
        "                    if grid[i][j-1]==\"E\":dp_u[i][j]+=1\r\n",
        "        for i in range(m-1,-1,-1):\r\n",
        "            for j in range(n-1,-1,-1):\r\n",
        "                if grid[i][j]==\"W\":continue\r\n",
        "                if i<m-1:\r\n",
        "                    dp_d[i][j]+=dp_d[i+1][j]\r\n",
        "                    if grid[i+1][j]==\"E\":dp_d[i][j]+=1\r\n",
        "                if j<n-1:\r\n",
        "                    dp_r[i][j]=dp_r[i][j+1]\r\n",
        "                    if grid[i][j+1]==\"E\":dp_r[i][j]+=1\r\n",
        "        ans=0\r\n",
        "        for i in range(m):\r\n",
        "            for j in range(n):\r\n",
        "                if grid[i][j]==\"0\":\r\n",
        "                    ans=max(ans,dp_l[i][j]+dp_r[i][j]+dp_u[i][j]+dp_d[i][j])    \r\n",
        "        return ans\r\n",
        "                "
      ],
      "execution_count": 52,
      "outputs": []
    }
  ]
}