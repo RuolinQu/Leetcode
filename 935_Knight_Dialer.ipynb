{
  "nbformat": 4,
  "nbformat_minor": 0,
  "metadata": {
    "colab": {
      "name": "935. Knight Dialer",
      "provenance": [],
      "collapsed_sections": [],
      "authorship_tag": "ABX9TyMhR1cJZNIRfqPH4e4/T6OH",
      "include_colab_link": true
    },
    "kernelspec": {
      "name": "python3",
      "display_name": "Python 3"
    }
  },
  "cells": [
    {
      "cell_type": "markdown",
      "metadata": {
        "id": "view-in-github",
        "colab_type": "text"
      },
      "source": [
        "<a href=\"https://colab.research.google.com/github/RuolinQu/Leetcode/blob/main/935_Knight_Dialer.ipynb\" target=\"_parent\"><img src=\"https://colab.research.google.com/assets/colab-badge.svg\" alt=\"Open In Colab\"/></a>"
      ]
    },
    {
      "cell_type": "markdown",
      "metadata": {
        "id": "zpCK58Lq64cM"
      },
      "source": [
        "O(n)\r\n",
        "\r\n",
        "%(10**9+7)\r\n",
        "\r\n",
        "空间dp\r\n",
        "\r\n",
        "refresh by num, and do mod opreation"
      ]
    },
    {
      "cell_type": "code",
      "metadata": {
        "id": "SCh-21sNnaf5"
      },
      "source": [
        "class Solution:\r\n",
        "    def knightDialer(self, N: int) -> int:\r\n",
        "        dic={0:(4,6),\r\n",
        "        1:(6,8),\r\n",
        "        2:(7,9),\r\n",
        "        3:(4,8),\r\n",
        "        4:(0,3,9),\r\n",
        "        5:(),\r\n",
        "        6:(0,1,7),\r\n",
        "        7:(2,6),\r\n",
        "        8:(1,3),\r\n",
        "        9:(2,4)}\r\n",
        "        dp=[1 for i in range(10)]\r\n",
        "        for i in range(N-1):\r\n",
        "            new_dp=[0 for i in range(10)]\r\n",
        "            for num in range(10):\r\n",
        "                for item in dic[num]:\r\n",
        "                    new_dp[num]+=dp[item]\r\n",
        "                new_dp[num]%=(10**9 + 7)\r\n",
        "            dp=new_dp\r\n",
        "        return sum(dp)%(10**9 + 7)\r\n",
        "            \r\n",
        "            \r\n",
        "             \r\n",
        "        "
      ],
      "execution_count": null,
      "outputs": []
    }
  ]
}