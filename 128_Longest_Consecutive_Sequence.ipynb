{
  "nbformat": 4,
  "nbformat_minor": 0,
  "metadata": {
    "colab": {
      "name": "128. Longest Consecutive Sequence",
      "provenance": [],
      "collapsed_sections": [],
      "authorship_tag": "ABX9TyOL8WaZOgWNzIZ3NxeIBQoD",
      "include_colab_link": true
    },
    "kernelspec": {
      "name": "python3",
      "display_name": "Python 3"
    }
  },
  "cells": [
    {
      "cell_type": "markdown",
      "metadata": {
        "id": "view-in-github",
        "colab_type": "text"
      },
      "source": [
        "<a href=\"https://colab.research.google.com/github/RuolinQu/Leetcode/blob/main/128_Longest_Consecutive_Sequence.ipynb\" target=\"_parent\"><img src=\"https://colab.research.google.com/assets/colab-badge.svg\" alt=\"Open In Colab\"/></a>"
      ]
    },
    {
      "cell_type": "markdown",
      "metadata": {
        "id": "-tbMJKT6QUs4"
      },
      "source": [
        "dic[num] is the middle num for connecting the head num and the tail num\r\n",
        "\r\n",
        "O(n)"
      ]
    },
    {
      "cell_type": "code",
      "metadata": {
        "id": "SCh-21sNnaf5"
      },
      "source": [
        "    def longestConsecutive(self, nums: List[int]) -> int:   \r\n",
        "        dic={}\r\n",
        "        ans=0\r\n",
        "        for num in nums:\r\n",
        "            if num in dic:continue\r\n",
        "            head_len=tail_len=0\r\n",
        "            if num-1 in dic:head_len=dic[num-1]\r\n",
        "            if num+1 in dic:tail_len=dic[num+1]\r\n",
        "            dic[num-head_len]=dic[num+tail_len]=dic[num]=head_len+tail_len+1\r\n",
        "            ans=max(ans,head_len+tail_len+1)\r\n",
        "        return ans\r\n",
        "            \r\n",
        "        \r\n",
        "        \r\n",
        "        "
      ],
      "execution_count": null,
      "outputs": []
    }
  ]
}