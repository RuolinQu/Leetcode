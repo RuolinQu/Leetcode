{
  "nbformat": 4,
  "nbformat_minor": 0,
  "metadata": {
    "colab": {
      "name": "239. Sliding Window Maximum",
      "provenance": [],
      "collapsed_sections": [],
      "authorship_tag": "ABX9TyOAgBTB0FGKPnfzHdAV01lK",
      "include_colab_link": true
    },
    "kernelspec": {
      "name": "python3",
      "display_name": "Python 3"
    }
  },
  "cells": [
    {
      "cell_type": "markdown",
      "metadata": {
        "id": "view-in-github",
        "colab_type": "text"
      },
      "source": [
        "<a href=\"https://colab.research.google.com/github/RuolinQu/Leetcode/blob/main/239_Sliding_Window_Maximum.ipynb\" target=\"_parent\"><img src=\"https://colab.research.google.com/assets/colab-badge.svg\" alt=\"Open In Colab\"/></a>"
      ]
    },
    {
      "cell_type": "code",
      "metadata": {
        "id": "X691e6xBVMj4"
      },
      "source": [
        "        \r\n",
        "class Solution:\r\n",
        "    def maxSlidingWindow(self, nums: List[int], k: int) -> List[int]:\r\n",
        "        dq=collections.deque([])\r\n",
        "        ans=[]\r\n",
        "        for i in range(len(nums)):\r\n",
        "            while dq and nums[dq[-1]]<=nums[i]:\r\n",
        "                dq.pop()\r\n",
        "            dq.append(i)\r\n",
        "            if i-k+1>=0:\r\n",
        "                ans.append(nums[dq[0]])\r\n",
        "            if dq[0]==i-k+1:\r\n",
        "                dq.popleft()\r\n",
        "        return ans\r\n",
        "        \r\n",
        "        \r\n",
        "        \r\n",
        "        "
      ],
      "execution_count": null,
      "outputs": []
    }
  ]
}