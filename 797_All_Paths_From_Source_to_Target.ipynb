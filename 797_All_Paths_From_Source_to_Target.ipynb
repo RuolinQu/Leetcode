{
  "nbformat": 4,
  "nbformat_minor": 0,
  "metadata": {
    "colab": {
      "name": "797. All Paths From Source to Target",
      "provenance": [],
      "collapsed_sections": [],
      "authorship_tag": "ABX9TyN5JjDKSKzsphYqy76vTCUg",
      "include_colab_link": true
    },
    "kernelspec": {
      "name": "python3",
      "display_name": "Python 3"
    }
  },
  "cells": [
    {
      "cell_type": "markdown",
      "metadata": {
        "id": "view-in-github",
        "colab_type": "text"
      },
      "source": [
        "<a href=\"https://colab.research.google.com/github/RuolinQu/Leetcode/blob/main/797_All_Paths_From_Source_to_Target.ipynb\" target=\"_parent\"><img src=\"https://colab.research.google.com/assets/colab-badge.svg\" alt=\"Open In Colab\"/></a>"
      ]
    },
    {
      "cell_type": "code",
      "metadata": {
        "id": "VmuYIDQ3dTPs"
      },
      "source": [
        "    def allPathsSourceTarget(self, graph: List[List[int]]) -> List[List[int]]:\n",
        "        n=len(graph)-1\n",
        "        ans=[]\n",
        "        def dfs(node,visited,path):\n",
        "            if node==n:ans.append(path[:])\n",
        "            for nei in graph[node]:\n",
        "                if nei not in visited:\n",
        "                    visited.add(nei)\n",
        "                    path.append(nei)\n",
        "                    dfs(nei,visited,path)\n",
        "                    visited.remove(nei)\n",
        "                    path.pop()\n",
        "        dfs(0,set([0]),[0])\n",
        "        return ans\n",
        "        "
      ],
      "execution_count": null,
      "outputs": []
    }
  ]
}