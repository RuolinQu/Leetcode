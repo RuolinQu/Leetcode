{
  "nbformat": 4,
  "nbformat_minor": 0,
  "metadata": {
    "colab": {
      "name": "322. Coin Change",
      "provenance": [],
      "collapsed_sections": [],
      "authorship_tag": "ABX9TyMwZdgoJz16/kbu/9wCD1w3",
      "include_colab_link": true
    },
    "kernelspec": {
      "name": "python3",
      "display_name": "Python 3"
    }
  },
  "cells": [
    {
      "cell_type": "markdown",
      "metadata": {
        "id": "view-in-github",
        "colab_type": "text"
      },
      "source": [
        "<a href=\"https://colab.research.google.com/github/RuolinQu/Leetcode/blob/main/322_Coin_Change.ipynb\" target=\"_parent\"><img src=\"https://colab.research.google.com/assets/colab-badge.svg\" alt=\"Open In Colab\"/></a>"
      ]
    },
    {
      "cell_type": "code",
      "metadata": {
        "id": "8wDsoCqn2xZz",
        "colab": {
          "base_uri": "https://localhost:8080/"
        },
        "outputId": "2fcc15e4-7a1a-4bcb-e25e-6527684c320f"
      },
      "source": [
        "    def coinChange(self, coins: List[int], amount: int) -> int:\n",
        "        dp=[float('inf') for i in range(amount+1)]\n",
        "        dp[0]=0\n",
        "        for i in range(1,len(dp)):\n",
        "            for coin in coins:\n",
        "                if i-coin>=0:\n",
        "                    dp[i]=min(dp[i-coin]+1,dp[i])\n",
        "        return -1 if dp[-1]==float('inf') else dp[-1]\n",
        "                    \n",
        "          "
      ],
      "execution_count": null,
      "outputs": [
        {
          "output_type": "stream",
          "text": [
            "[[0, 0, 0, 0, 0], [0, 1, 1, 2, 2], [0, 1, 2, 3, 4], [0, 2, 4, 6, 7], [0, 3, 5, 7, 9], [0, 3, 5, 8, 10], [0, 3, 6, 9, 12]]\n",
            "True\n"
          ],
          "name": "stdout"
        }
      ]
    },
    {
      "cell_type": "code",
      "metadata": {
        "id": "VmuYIDQ3dTPs"
      },
      "source": [
        ""
      ],
      "execution_count": null,
      "outputs": []
    }
  ]
}