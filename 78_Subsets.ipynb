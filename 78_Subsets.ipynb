{
  "nbformat": 4,
  "nbformat_minor": 0,
  "metadata": {
    "colab": {
      "name": "78. Subsets",
      "provenance": [],
      "collapsed_sections": [],
      "authorship_tag": "ABX9TyMQFiQmGDibM31VPA05y1c9",
      "include_colab_link": true
    },
    "kernelspec": {
      "name": "python3",
      "display_name": "Python 3"
    }
  },
  "cells": [
    {
      "cell_type": "markdown",
      "metadata": {
        "id": "view-in-github",
        "colab_type": "text"
      },
      "source": [
        "<a href=\"https://colab.research.google.com/github/RuolinQu/Leetcode/blob/main/78_Subsets.ipynb\" target=\"_parent\"><img src=\"https://colab.research.google.com/assets/colab-badge.svg\" alt=\"Open In Colab\"/></a>"
      ]
    },
    {
      "cell_type": "code",
      "metadata": {
        "id": "8wDsoCqn2xZz",
        "colab": {
          "base_uri": "https://localhost:8080/"
        },
        "outputId": "2fcc15e4-7a1a-4bcb-e25e-6527684c320f"
      },
      "source": [
        "    def subsets(self, nums: List[int]) -> List[List[int]]:\n",
        "        \n",
        "        #111\n",
        "        # ans=[] \n",
        "        # def helper(start,res):\n",
        "        #     ans.append(res[:])\n",
        "        #     if start>len(nums):\n",
        "        #         return\n",
        "        #     for i in range(start,len(nums)):\n",
        "        #         res.append(nums[i])\n",
        "        #         helper(i+1,res)\n",
        "        #         res.pop()\n",
        "        # helper(0,[])\n",
        "        # return ans\n",
        "        \n",
        "        #222\n",
        "#         res = [[]]\n",
        "#         for x in nums:\n",
        "#             cascade = []\n",
        "#             for subset in res:\n",
        "#                 cascade.append([x] + subset)\n",
        "#             res.extend(cascade)\n",
        "            \n",
        "#         return res\n",
        "        \n",
        "          "
      ],
      "execution_count": null,
      "outputs": [
        {
          "output_type": "stream",
          "text": [
            "[[0, 0, 0, 0, 0], [0, 1, 1, 2, 2], [0, 1, 2, 3, 4], [0, 2, 4, 6, 7], [0, 3, 5, 7, 9], [0, 3, 5, 8, 10], [0, 3, 6, 9, 12]]\n",
            "True\n"
          ],
          "name": "stdout"
        }
      ]
    },
    {
      "cell_type": "code",
      "metadata": {
        "id": "VmuYIDQ3dTPs"
      },
      "source": [
        ""
      ],
      "execution_count": null,
      "outputs": []
    }
  ]
}