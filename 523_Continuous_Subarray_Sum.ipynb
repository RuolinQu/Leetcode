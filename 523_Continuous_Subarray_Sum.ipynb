{
  "nbformat": 4,
  "nbformat_minor": 0,
  "metadata": {
    "colab": {
      "name": "523. Continuous Subarray Sum",
      "provenance": [],
      "collapsed_sections": [],
      "authorship_tag": "ABX9TyORH0FnffbEkIiRESGPJi2l",
      "include_colab_link": true
    },
    "kernelspec": {
      "name": "python3",
      "display_name": "Python 3"
    }
  },
  "cells": [
    {
      "cell_type": "markdown",
      "metadata": {
        "id": "view-in-github",
        "colab_type": "text"
      },
      "source": [
        "<a href=\"https://colab.research.google.com/github/RuolinQu/Leetcode/blob/main/523_Continuous_Subarray_Sum.ipynb\" target=\"_parent\"><img src=\"https://colab.research.google.com/assets/colab-badge.svg\" alt=\"Open In Colab\"/></a>"
      ]
    },
    {
      "cell_type": "markdown",
      "metadata": {
        "id": "OM192VapVMzS"
      },
      "source": [
        "0 出现一次即可 其他mod 出现2次 且 index2-index1>1"
      ]
    },
    {
      "cell_type": "code",
      "metadata": {
        "id": "X691e6xBVMj4"
      },
      "source": [
        "class Solution:\r\n",
        "    def checkSubarraySum(self, nums: List[int], k: int) -> bool:\r\n",
        "        if k==0:\r\n",
        "            for i in range(1,len(nums)):\r\n",
        "                if nums[i]==nums[i-1]==0:return True\r\n",
        "        else:\r\n",
        "            total=0\r\n",
        "            dic=collections.defaultdict(int)\r\n",
        "            dic[0]=-1\r\n",
        "            for i in range(len(nums)):\r\n",
        "                total+=nums[i]\r\n",
        "                total%=k\r\n",
        "                if total in dic:\r\n",
        "                    if i-dic[total]>1:\r\n",
        "                        return True\r\n",
        "                else:\r\n",
        "                    dic[total]=i\r\n",
        "        return False\r\n",
        "        \r\n",
        "        "
      ],
      "execution_count": null,
      "outputs": []
    }
  ]
}