{
  "nbformat": 4,
  "nbformat_minor": 0,
  "metadata": {
    "colab": {
      "name": "516. Longest Palindromic Subsequence",
      "provenance": [],
      "collapsed_sections": [],
      "authorship_tag": "ABX9TyOp1p6CWKglQIhTvMtM3iK0",
      "include_colab_link": true
    },
    "kernelspec": {
      "name": "python3",
      "display_name": "Python 3"
    }
  },
  "cells": [
    {
      "cell_type": "markdown",
      "metadata": {
        "id": "view-in-github",
        "colab_type": "text"
      },
      "source": [
        "<a href=\"https://colab.research.google.com/github/RuolinQu/Leetcode/blob/main/516_Longest_Palindromic_Subsequence.ipynb\" target=\"_parent\"><img src=\"https://colab.research.google.com/assets/colab-badge.svg\" alt=\"Open In Colab\"/></a>"
      ]
    },
    {
      "cell_type": "markdown",
      "metadata": {
        "id": "cnYmZXBwngTU"
      },
      "source": [
        "dp[i][j] longest palindrome between s[i:j]\r\n",
        "\r\n",
        "dp[i][j]=max(dp[i+1][j],dp[i][j-1])\r\n",
        "s[i]=s[j] dp[i][j]=dp[i+1][j-1]+2"
      ]
    },
    {
      "cell_type": "code",
      "metadata": {
        "id": "SCh-21sNnaf5"
      },
      "source": [
        "class Solution:\r\n",
        "    def longestPalindromeSubseq(self, s: str) -> int:\r\n",
        "        n=len(s)\r\n",
        "        if not s:return 0\r\n",
        "        dp=[[0 for i in range(n)]for j in range(n)]\r\n",
        "        for i in range(n):\r\n",
        "            dp[i][i]=1\r\n",
        "        ans=1\r\n",
        "        for l in range(1,n):\r\n",
        "            for i in range(n-l):\r\n",
        "                j=i+l\r\n",
        "                if i+1>j-1:\r\n",
        "                    if s[i]==s[j]:dp[i][j]=2\r\n",
        "                    else:dp[i][j]=1\r\n",
        "                else:\r\n",
        "                    if s[i]==s[j]:dp[i][j]=dp[i+1][j-1]+2\r\n",
        "                    else:\r\n",
        "                        dp[i][j]=max(dp[i+1][j],dp[i][j-1])\r\n",
        "                ans=max(ans,dp[i][j])\r\n",
        "        return ans"
      ],
      "execution_count": null,
      "outputs": []
    }
  ]
}