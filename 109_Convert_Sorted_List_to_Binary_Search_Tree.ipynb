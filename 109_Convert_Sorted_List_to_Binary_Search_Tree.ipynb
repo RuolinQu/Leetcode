{
  "nbformat": 4,
  "nbformat_minor": 0,
  "metadata": {
    "colab": {
      "name": "109. Convert Sorted List to Binary Search Tree",
      "provenance": [],
      "collapsed_sections": [],
      "authorship_tag": "ABX9TyOPxmso4OcfGnsn5Zs+2A5T",
      "include_colab_link": true
    },
    "kernelspec": {
      "name": "python3",
      "display_name": "Python 3"
    }
  },
  "cells": [
    {
      "cell_type": "markdown",
      "metadata": {
        "id": "view-in-github",
        "colab_type": "text"
      },
      "source": [
        "<a href=\"https://colab.research.google.com/github/RuolinQu/Leetcode/blob/main/109_Convert_Sorted_List_to_Binary_Search_Tree.ipynb\" target=\"_parent\"><img src=\"https://colab.research.google.com/assets/colab-badge.svg\" alt=\"Open In Colab\"/></a>"
      ]
    },
    {
      "cell_type": "markdown",
      "metadata": {
        "id": "-tbMJKT6QUs4"
      },
      "source": [
        "len(arr)//2, len(arr)-1//2 both work"
      ]
    },
    {
      "cell_type": "code",
      "metadata": {
        "id": "SCh-21sNnaf5"
      },
      "source": [
        "class Solution:\r\n",
        "    def sortedListToBST(self, head: ListNode) -> TreeNode:\r\n",
        "        tmp=[]\r\n",
        "        while head:\r\n",
        "            tmp.append(head.val)\r\n",
        "            head=head.next\r\n",
        "        def helper(arr):\r\n",
        "            if not arr:\r\n",
        "                return None\r\n",
        "            mid=(len(arr)-1)//2\r\n",
        "            node=ListNode(arr[mid])\r\n",
        "            left=helper(arr[:mid])\r\n",
        "            right=helper(arr[mid+1:])\r\n",
        "            node.left,node.right=left,right\r\n",
        "            return node\r\n",
        "        return helper(tmp)\r\n",
        "            \r\n",
        "            \r\n",
        "        \r\n",
        "        \r\n",
        "        "
      ],
      "execution_count": null,
      "outputs": []
    }
  ]
}