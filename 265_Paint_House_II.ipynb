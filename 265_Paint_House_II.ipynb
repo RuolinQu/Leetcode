{
  "nbformat": 4,
  "nbformat_minor": 0,
  "metadata": {
    "colab": {
      "name": "265. Paint House II",
      "provenance": [],
      "collapsed_sections": [],
      "authorship_tag": "ABX9TyODzMmkoxIM2QdXMdPAnZhr",
      "include_colab_link": true
    },
    "kernelspec": {
      "name": "python3",
      "display_name": "Python 3"
    }
  },
  "cells": [
    {
      "cell_type": "markdown",
      "metadata": {
        "id": "view-in-github",
        "colab_type": "text"
      },
      "source": [
        "<a href=\"https://colab.research.google.com/github/RuolinQu/Leetcode/blob/main/265_Paint_House_II.ipynb\" target=\"_parent\"><img src=\"https://colab.research.google.com/assets/colab-badge.svg\" alt=\"Open In Colab\"/></a>"
      ]
    },
    {
      "cell_type": "markdown",
      "metadata": {
        "id": "VLJjOF7Aivok"
      },
      "source": [
        "            low=min(dp[i-1])\n",
        "            index=dp[i-1].index(low)\n",
        "            low2=min(dp[i-1][:index]+dp[i-1][index+1:])"
      ]
    },
    {
      "cell_type": "code",
      "metadata": {
        "id": "8wDsoCqn2xZz"
      },
      "source": [
        "class Solution:\r\n",
        "    def minCostII(self, costs: List[List[int]]) -> int:\r\n",
        "        n=len(costs)\r\n",
        "        if not n:return 0\r\n",
        "        k=len(costs[0])\r\n",
        "        if not k:\r\n",
        "            return 0\r\n",
        "        dp=[[float('inf') for i in range(k)]for i in range(n)]\r\n",
        "        for i in range(k):\r\n",
        "            dp[0][i]=costs[0][i]\r\n",
        "        for i in range(1,n):\r\n",
        "            low=min(dp[i-1])\r\n",
        "            index=dp[i-1].index(low)\r\n",
        "            low2=min(dp[i-1][:index]+dp[i-1][index+1:])\r\n",
        "            for j in range(k):\r\n",
        "                if j!=index:dp[i][j]=low+costs[i][j]\r\n",
        "                else: dp[i][j]=low2+costs[i][j]\r\n",
        "        return min(dp[-1])"
      ],
      "execution_count": null,
      "outputs": []
    }
  ]
}