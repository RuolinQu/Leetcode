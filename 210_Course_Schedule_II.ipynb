{
  "nbformat": 4,
  "nbformat_minor": 0,
  "metadata": {
    "colab": {
      "name": "210. Course Schedule II",
      "provenance": [],
      "collapsed_sections": [],
      "authorship_tag": "ABX9TyMArgX+SD8Z54HTHYdEm/nv",
      "include_colab_link": true
    },
    "kernelspec": {
      "name": "python3",
      "display_name": "Python 3"
    }
  },
  "cells": [
    {
      "cell_type": "markdown",
      "metadata": {
        "id": "view-in-github",
        "colab_type": "text"
      },
      "source": [
        "<a href=\"https://colab.research.google.com/github/RuolinQu/Leetcode/blob/main/210_Course_Schedule_II.ipynb\" target=\"_parent\"><img src=\"https://colab.research.google.com/assets/colab-badge.svg\" alt=\"Open In Colab\"/></a>"
      ]
    },
    {
      "cell_type": "code",
      "metadata": {
        "id": "8wDsoCqn2xZz",
        "colab": {
          "base_uri": "https://localhost:8080/"
        },
        "outputId": "2fcc15e4-7a1a-4bcb-e25e-6527684c320f"
      },
      "source": [
        "    def findOrder(self, n: int, prerequisites: List[List[int]]) -> List[int]:\n",
        "        pre=collections.defaultdict(list)\n",
        "        courses=[0 for i in range(n)]\n",
        "        for p in prerequisites:\n",
        "            pre[p[1]].append(p[0])\n",
        "            courses[p[0]]+=1\n",
        "        bfs=[]\n",
        "        ans=[]\n",
        "        for i in range(n):\n",
        "            if courses[i]==0:bfs.append(i)\n",
        "        while bfs:\n",
        "            course=bfs.pop()\n",
        "            ans.append(course)\n",
        "            for node in pre[course]:\n",
        "                courses[node]-=1\n",
        "                if courses[node]==0:\n",
        "                    bfs.append(node)\n",
        "        return [] if len(ans)!=n else ans"
      ],
      "execution_count": null,
      "outputs": [
        {
          "output_type": "stream",
          "text": [
            "[[0, 0, 0, 0, 0], [0, 1, 1, 2, 2], [0, 1, 2, 3, 4], [0, 2, 4, 6, 7], [0, 3, 5, 7, 9], [0, 3, 5, 8, 10], [0, 3, 6, 9, 12]]\n",
            "True\n"
          ],
          "name": "stdout"
        }
      ]
    },
    {
      "cell_type": "code",
      "metadata": {
        "id": "VmuYIDQ3dTPs"
      },
      "source": [
        ""
      ],
      "execution_count": null,
      "outputs": []
    }
  ]
}