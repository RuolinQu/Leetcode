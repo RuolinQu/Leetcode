{
  "nbformat": 4,
  "nbformat_minor": 0,
  "metadata": {
    "colab": {
      "name": "210. Course Schedule II",
      "provenance": [],
      "collapsed_sections": [],
      "authorship_tag": "ABX9TyOi8RFw9aOYRAj+34w7OJUZ",
      "include_colab_link": true
    },
    "kernelspec": {
      "name": "python3",
      "display_name": "Python 3"
    }
  },
  "cells": [
    {
      "cell_type": "markdown",
      "metadata": {
        "id": "view-in-github",
        "colab_type": "text"
      },
      "source": [
        "<a href=\"https://colab.research.google.com/github/RuolinQu/Leetcode/blob/main/210_Course_Schedule_II.ipynb\" target=\"_parent\"><img src=\"https://colab.research.google.com/assets/colab-badge.svg\" alt=\"Open In Colab\"/></a>"
      ]
    },
    {
      "cell_type": "code",
      "metadata": {
        "id": "8wDsoCqn2xZz"
      },
      "source": [
        "class Solution:\r\n",
        "    def findOrder(self, n: int, prerequisites: List[List[int]]) -> List[int]:\r\n",
        "        req=[0 for i in range(n)]\r\n",
        "        dic=collections.defaultdict(list)\r\n",
        "        for pre in prerequisites:\r\n",
        "            dic[pre[1]].append(pre[0])\r\n",
        "            req[pre[0]]+=1\r\n",
        "        bfs=deque([i for i in range(n) if req[i]==0])\r\n",
        "        ans=[]\r\n",
        "        while bfs:\r\n",
        "            course=bfs.popleft()\r\n",
        "            ans.append(course)\r\n",
        "            for c in dic[course]:\r\n",
        "                req[c]-=1\r\n",
        "                if req[c]==0:bfs.append(c)\r\n",
        "        return [] if len(ans)<n else ans"
      ],
      "execution_count": null,
      "outputs": []
    }
  ]
}