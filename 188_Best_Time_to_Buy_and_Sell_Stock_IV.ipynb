{
  "nbformat": 4,
  "nbformat_minor": 0,
  "metadata": {
    "colab": {
      "name": "188. Best Time to Buy and Sell Stock IV",
      "provenance": [],
      "collapsed_sections": [],
      "authorship_tag": "ABX9TyNUwHDwF1ACKYhlLeFfytMg",
      "include_colab_link": true
    },
    "kernelspec": {
      "name": "python3",
      "display_name": "Python 3"
    }
  },
  "cells": [
    {
      "cell_type": "markdown",
      "metadata": {
        "id": "view-in-github",
        "colab_type": "text"
      },
      "source": [
        "<a href=\"https://colab.research.google.com/github/RuolinQu/Leetcode/blob/main/188_Best_Time_to_Buy_and_Sell_Stock_IV.ipynb\" target=\"_parent\"><img src=\"https://colab.research.google.com/assets/colab-badge.svg\" alt=\"Open In Colab\"/></a>"
      ]
    },
    {
      "cell_type": "code",
      "metadata": {
        "id": "8wDsoCqn2xZz",
        "colab": {
          "base_uri": "https://localhost:8080/"
        },
        "outputId": "2fcc15e4-7a1a-4bcb-e25e-6527684c320f"
      },
      "source": [
        "    def maxProfit(self, k: int, prices: List[int]) -> int:\n",
        "        n=len(prices)\n",
        "        if not prices:return 0\n",
        "        dp=[[[0,-float('inf')] for i in range(k+1)] for j in range(n)]\n",
        "        for i in range(n):\n",
        "            for kk in range(k):\n",
        "                dp[i][kk][0]=max(dp[i-1][kk][0],dp[i-1][kk][1]+prices[i])\n",
        "                dp[i][kk][1]=max(dp[i-1][kk][1],dp[i-1][kk+1][0]-prices[i])\n",
        "        ans=-float('inf')\n",
        "        for i in range(k+1):\n",
        "            ans=max(dp[-1][i][0],ans)\n",
        "        return ans"
      ],
      "execution_count": null,
      "outputs": [
        {
          "output_type": "stream",
          "text": [
            "[[0, 0, 0, 0, 0], [0, 1, 1, 2, 2], [0, 1, 2, 3, 4], [0, 2, 4, 6, 7], [0, 3, 5, 7, 9], [0, 3, 5, 8, 10], [0, 3, 6, 9, 12]]\n",
            "True\n"
          ],
          "name": "stdout"
        }
      ]
    },
    {
      "cell_type": "code",
      "metadata": {
        "id": "VmuYIDQ3dTPs"
      },
      "source": [
        ""
      ],
      "execution_count": null,
      "outputs": []
    }
  ]
}