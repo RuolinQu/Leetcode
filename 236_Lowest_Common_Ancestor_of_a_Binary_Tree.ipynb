{
  "nbformat": 4,
  "nbformat_minor": 0,
  "metadata": {
    "colab": {
      "name": "236. Lowest Common Ancestor of a Binary Tree",
      "provenance": [],
      "collapsed_sections": [],
      "authorship_tag": "ABX9TyNLlaYT1GPAHDnv3gbaifHA",
      "include_colab_link": true
    },
    "kernelspec": {
      "name": "python3",
      "display_name": "Python 3"
    }
  },
  "cells": [
    {
      "cell_type": "markdown",
      "metadata": {
        "id": "view-in-github",
        "colab_type": "text"
      },
      "source": [
        "<a href=\"https://colab.research.google.com/github/RuolinQu/Leetcode/blob/main/236_Lowest_Common_Ancestor_of_a_Binary_Tree.ipynb\" target=\"_parent\"><img src=\"https://colab.research.google.com/assets/colab-badge.svg\" alt=\"Open In Colab\"/></a>"
      ]
    },
    {
      "cell_type": "code",
      "metadata": {
        "id": "VmuYIDQ3dTPs"
      },
      "source": [
        "    def lowestCommonAncestor(self, root: 'TreeNode', p: 'TreeNode', q: 'TreeNode') -> 'TreeNode':\n",
        "        if root in (None,p,q):return root\n",
        "        left=self.lowestCommonAncestor(root.left,p,q)\n",
        "        right=self.lowestCommonAncestor(root.right,p,q)\n",
        "        if left and right:return root\n",
        "        elif left:return left\n",
        "        elif right:return right"
      ],
      "execution_count": null,
      "outputs": []
    }
  ]
}