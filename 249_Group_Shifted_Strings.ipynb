{
  "nbformat": 4,
  "nbformat_minor": 0,
  "metadata": {
    "colab": {
      "name": "249. Group Shifted Strings",
      "provenance": [],
      "collapsed_sections": [],
      "authorship_tag": "ABX9TyPfHroWamX26sUXEmP2WCLb",
      "include_colab_link": true
    },
    "kernelspec": {
      "name": "python3",
      "display_name": "Python 3"
    }
  },
  "cells": [
    {
      "cell_type": "markdown",
      "metadata": {
        "id": "view-in-github",
        "colab_type": "text"
      },
      "source": [
        "<a href=\"https://colab.research.google.com/github/RuolinQu/Leetcode/blob/main/249_Group_Shifted_Strings.ipynb\" target=\"_parent\"><img src=\"https://colab.research.google.com/assets/colab-badge.svg\" alt=\"Open In Colab\"/></a>"
      ]
    },
    {
      "cell_type": "markdown",
      "metadata": {
        "id": "qW1BW0Jcdu1i"
      },
      "source": [
        "In Python, the ord() function accepts a string of unit length as an argument and returns the Unicode equivalence of the passed argument."
      ]
    },
    {
      "cell_type": "markdown",
      "metadata": {
        "id": "sCB90u4hMEKq"
      },
      "source": [
        "C/Java 的处理方式\r\n",
        "大多数语言的处理方式都与 C/Java 一致，采用了 truncate 除法。所以在 C/Java 语言中:\r\n",
        "-17 % 10 的计算结果如下：r = (-17) - (-17 / 10) x 10 = (-17) - (-1 x 10) = -7\r\n",
        "17 % -10 的计算结果如下：r = 17 - (17 / -10) x (-10) = (17) - (-1 x -10) = 7\r\n",
        "-17 % -10 的计算结果如下：r = (-17) - (-17 / -10) x (-10) = (-17) - (1 x -10) = -7\r\n",
        "\r\n",
        "Python 的处理方式\r\n",
        "Python 语言除法采用的是 floor 除法，所以对 Python 程序员来讲：\r\n",
        "-17 % 10 的计算结果如下**：r = (-17) - (-17 / 10) x 10 = (-17) - (-2 x 10) = 3**\r\n",
        "17 % -10 的计算结果如下：r = 17 - (17 / -10) x (-10) = (17) - (-2 x -10) = －3\r\n",
        "-17 % -10 的计算结果如下：r = (-17) - (-17 / -10) x (-10) = (-17) - (1 x -10) = -7\r\n",
        "\r\n",
        "\r\n"
      ]
    },
    {
      "cell_type": "markdown",
      "metadata": {
        "id": "drt_QJuqLjgh"
      },
      "source": [
        "dict_items([((0, 1, 2), ['abc', 'bcd', 'xyz']), ((0, 2, 4, 5), ['acef']), ((0, 25), ['az', 'ba']), ((0,), ['a', 'z'])])\r\n",
        "\r\n"
      ]
    },
    {
      "cell_type": "code",
      "metadata": {
        "id": "X691e6xBVMj4"
      },
      "source": [
        "    def groupStrings(self, strings: List[str]) -> List[List[str]]:\r\n",
        "\r\n",
        "        \"\"\"\r\n",
        "        :type strings: List[str]\r\n",
        "        :rtype: List[List[str]]\r\n",
        "        \"\"\"\r\n",
        "        dic=collections.defaultdict(list)\r\n",
        "        for s in strings:\r\n",
        "            key=tuple((ord(ch)-ord(s[0]))%26 for ch in s)\r\n",
        "            dic[key].append(s)\r\n",
        "        print(dic.items())\r\n",
        "        return dic.values()\r\n",
        "        "
      ],
      "execution_count": null,
      "outputs": []
    }
  ]
}