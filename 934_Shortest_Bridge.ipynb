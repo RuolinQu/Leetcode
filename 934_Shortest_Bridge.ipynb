{
  "nbformat": 4,
  "nbformat_minor": 0,
  "metadata": {
    "colab": {
      "name": "934. Shortest Bridge",
      "provenance": [],
      "collapsed_sections": [],
      "authorship_tag": "ABX9TyMUAp7N6+sfPT1nuzALVF1z",
      "include_colab_link": true
    },
    "kernelspec": {
      "name": "python3",
      "display_name": "Python 3"
    }
  },
  "cells": [
    {
      "cell_type": "markdown",
      "metadata": {
        "id": "view-in-github",
        "colab_type": "text"
      },
      "source": [
        "<a href=\"https://colab.research.google.com/github/RuolinQu/Leetcode/blob/main/934_Shortest_Bridge.ipynb\" target=\"_parent\"><img src=\"https://colab.research.google.com/assets/colab-badge.svg\" alt=\"Open In Colab\"/></a>"
      ]
    },
    {
      "cell_type": "markdown",
      "metadata": {
        "id": "zpCK58Lq64cM"
      },
      "source": [
        "dfs: find the first zone, mark in different value other than 1\r\n",
        "\r\n",
        "bfs: find shortest path"
      ]
    },
    {
      "cell_type": "code",
      "metadata": {
        "id": "SCh-21sNnaf5"
      },
      "source": [
        "class Solution:\r\n",
        "    def shortestBridge(self, A: List[List[int]]) -> int:\r\n",
        "        m,n=len(A),len(A[0])\r\n",
        "        directions=[(1,0),(-1,0),(0,1),(0,-1)]\r\n",
        "        bfs=deque([])\r\n",
        "        def dfs(i,j):\r\n",
        "            if 0<=i<m and 0<=j<n and A[i][j]==1:\r\n",
        "                A[i][j]=2\r\n",
        "                bfs.append((i,j))\r\n",
        "                dfs(i+1,j)\r\n",
        "                dfs(i-1,j)\r\n",
        "                dfs(i,j+1)\r\n",
        "                dfs(i,j-1)\r\n",
        "        found=False\r\n",
        "        for i in range(m):\r\n",
        "            for j in range(n):\r\n",
        "                if A[i][j]==1:\r\n",
        "                    dfs(i,j)\r\n",
        "                    found=True\r\n",
        "                    break\r\n",
        "            if found:break\r\n",
        "        seen=set()\r\n",
        "        step=0\r\n",
        "        while bfs:\r\n",
        "            sizeq=len(bfs)\r\n",
        "            while sizeq:\r\n",
        "                i,j=bfs.popleft()\r\n",
        "                sizeq-=1\r\n",
        "                for dx,dy in directions:\r\n",
        "                    x,y=i+dx,j+dy\r\n",
        "                    if 0<=x<m and 0<=y<n and A[x][y]==1:\r\n",
        "                        return step\r\n",
        "                    elif 0<=x<m and 0<=y<n and A[x][y]==0 and (x,y) not in seen:\r\n",
        "                        seen.add((x,y))\r\n",
        "                        bfs.append((x,y))\r\n",
        "                        \r\n",
        "            step+=1\r\n",
        "        return -1"
      ],
      "execution_count": null,
      "outputs": []
    }
  ]
}