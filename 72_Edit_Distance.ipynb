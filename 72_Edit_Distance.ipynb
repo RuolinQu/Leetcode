{
  "nbformat": 4,
  "nbformat_minor": 0,
  "metadata": {
    "colab": {
      "name": "72. Edit Distance.ipynb",
      "provenance": [],
      "collapsed_sections": [],
      "authorship_tag": "ABX9TyMlC9QnuWTh4JB8LP6WynPk",
      "include_colab_link": true
    },
    "kernelspec": {
      "name": "python3",
      "display_name": "Python 3"
    }
  },
  "cells": [
    {
      "cell_type": "markdown",
      "metadata": {
        "id": "view-in-github",
        "colab_type": "text"
      },
      "source": [
        "<a href=\"https://colab.research.google.com/github/RuolinQu/Leetcode/blob/main/72_Edit_Distance.ipynb\" target=\"_parent\"><img src=\"https://colab.research.google.com/assets/colab-badge.svg\" alt=\"Open In Colab\"/></a>"
      ]
    },
    {
      "cell_type": "markdown",
      "metadata": {
        "id": "cnYmZXBwngTU"
      },
      "source": [
        "dp[i][j] min opration to make word[:i] and word2[:j] equal\r\n",
        "\r\n",
        "have three operation on each letter pair:\r\n",
        "delete:dp[i-1][j]\r\n",
        "add: dp[i][j-1]\r\n",
        "replace: dp[i-1][j-1]"
      ]
    },
    {
      "cell_type": "code",
      "metadata": {
        "id": "SCh-21sNnaf5"
      },
      "source": [
        "class Solution:\r\n",
        "    def minDistance(self, word1: str, word2: str) -> int:\r\n",
        "        m,n=len(word1),len(word2)\r\n",
        "        dp=[[0 for i in range(n+1)]for j in range(m+1)]\r\n",
        "        for i in range(1,m+1):\r\n",
        "            dp[i][0]=i\r\n",
        "        for j in range(1,n+1):\r\n",
        "            dp[0][j]=j\r\n",
        "        for i in range(1,m+1):\r\n",
        "            for j in range(1,n+1):\r\n",
        "                if word1[i-1]==word2[j-1]:\r\n",
        "                    dp[i][j]=dp[i-1][j-1]\r\n",
        "                else:\r\n",
        "                    dp[i][j]=min(dp[i-1][j],dp[i][j-1],dp[i-1][j-1])+1\r\n",
        "        return dp[m][n]"
      ],
      "execution_count": null,
      "outputs": []
    }
  ]
}