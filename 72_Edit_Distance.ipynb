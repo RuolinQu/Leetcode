{
  "nbformat": 4,
  "nbformat_minor": 0,
  "metadata": {
    "colab": {
      "name": "72. Edit Distance.ipynb",
      "provenance": [],
      "authorship_tag": "ABX9TyN5gmtApTe2VEttxXYfSEvd",
      "include_colab_link": true
    },
    "kernelspec": {
      "name": "python3",
      "display_name": "Python 3"
    }
  },
  "cells": [
    {
      "cell_type": "markdown",
      "metadata": {
        "id": "view-in-github",
        "colab_type": "text"
      },
      "source": [
        "<a href=\"https://colab.research.google.com/github/RuolinQu/Leetcode/blob/main/72_Edit_Distance.ipynb\" target=\"_parent\"><img src=\"https://colab.research.google.com/assets/colab-badge.svg\" alt=\"Open In Colab\"/></a>"
      ]
    },
    {
      "cell_type": "markdown",
      "metadata": {
        "id": "cnYmZXBwngTU"
      },
      "source": [
        "dp[i][j] min opration to make word[:i] and word2[:j] equal\r\n",
        "\r\n",
        "have three operation on each letter pair:\r\n",
        "delete:dp[i-1][j]\r\n",
        "add: dp[i][j-1]\r\n",
        "replace: dp[i-1][j-1]"
      ]
    },
    {
      "cell_type": "code",
      "metadata": {
        "id": "SCh-21sNnaf5"
      },
      "source": [
        "class Solution:\r\n",
        "    def multiply(self, num1: str, num2: str) -> str:\r\n",
        "        m,n=len(num1),len(num2)\r\n",
        "        res=[0 for i in range(m+n)]\r\n",
        "        for i in range(m-1,-1,-1):\r\n",
        "            for j in range(n-1,-1,-1):\r\n",
        "        # for i in range(m):\r\n",
        "        #     for j in range(n):\r\n",
        "                product=int(num1[i])*int(num2[j])\r\n",
        "                index1,index2=i+j,i+j+1\r\n",
        "                total=res[index2]+product\r\n",
        "                res[index1]+=total//10\r\n",
        "                res[index2]=total%10\r\n",
        "                print(res)\r\n",
        "        for i in range(len(res)):\r\n",
        "            res[i]=str(res[i])\r\n",
        "        ans=\"\".join(res).lstrip(\"0\") \r\n",
        "        return ans if ans else \"0\""
      ],
      "execution_count": null,
      "outputs": []
    }
  ]
}