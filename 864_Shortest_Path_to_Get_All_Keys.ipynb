{
  "nbformat": 4,
  "nbformat_minor": 0,
  "metadata": {
    "colab": {
      "name": "864. Shortest Path to Get All Keys",
      "provenance": [],
      "collapsed_sections": [],
      "authorship_tag": "ABX9TyNsFwIhFlZiseftA6lJWo8Z",
      "include_colab_link": true
    },
    "kernelspec": {
      "name": "python3",
      "display_name": "Python 3"
    }
  },
  "cells": [
    {
      "cell_type": "markdown",
      "metadata": {
        "id": "view-in-github",
        "colab_type": "text"
      },
      "source": [
        "<a href=\"https://colab.research.google.com/github/RuolinQu/Leetcode/blob/main/864_Shortest_Path_to_Get_All_Keys.ipynb\" target=\"_parent\"><img src=\"https://colab.research.google.com/assets/colab-badge.svg\" alt=\"Open In Colab\"/></a>"
      ]
    },
    {
      "cell_type": "code",
      "metadata": {
        "id": "X691e6xBVMj4"
      },
      "source": [
        "    def shortestPathAllKeys(self, grid: List[str]) -> int:\r\n",
        "        m,n=len(grid),len(grid[0])\r\n",
        "        number=0\r\n",
        "        for i in range(m):\r\n",
        "            for j in range(n):\r\n",
        "                if grid[i][j]==\"@\":\r\n",
        "                    start1,start2=i,j\r\n",
        "                elif grid[i][j] in \"abcdef\":\r\n",
        "                    number+=1\r\n",
        "        dq=collections.deque([(start1,start2,0,\"\")])\r\n",
        "        directions=[(1,0),(-1,0),(0,1),(0,-1)]\r\n",
        "        seen=set()\r\n",
        "        while dq:\r\n",
        "            i,j,step,keys=dq.popleft()\r\n",
        "            if len(keys)==number:\r\n",
        "                return step\r\n",
        "            if (i,j,keys) in seen:continue\r\n",
        "            seen.add((i,j,keys))\r\n",
        "            for dx,dy in directions:\r\n",
        "                x,y=i+dx,j+dy\r\n",
        "                if 0<=x<m and 0<=y<n:\r\n",
        "                    ch=grid[x][y]\r\n",
        "                    if ch in \".@\":\r\n",
        "                        dq.append((x,y,step+1,keys))\r\n",
        "                    elif ch in \"ABCDEF\" and ch.lower() in keys:\r\n",
        "                        dq.append((x,y,step+1,keys))\r\n",
        "                    elif ch in \"abcdef\":\r\n",
        "                        if ch not in keys:\r\n",
        "                            dq.append((x,y,step+1,keys+ch))\r\n",
        "                        else:\r\n",
        "                            dq.append((x,y,step+1,keys))\r\n",
        "        return -1\r\n",
        "                        \r\n",
        "        \r\n",
        "        "
      ],
      "execution_count": null,
      "outputs": []
    }
  ]
}