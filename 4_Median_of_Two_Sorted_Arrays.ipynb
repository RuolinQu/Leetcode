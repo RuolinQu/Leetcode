{
  "nbformat": 4,
  "nbformat_minor": 0,
  "metadata": {
    "colab": {
      "name": "4. Median of Two Sorted Arrays",
      "provenance": [],
      "collapsed_sections": [],
      "authorship_tag": "ABX9TyO6GHOfJwAcuEoJIx/VbPv1",
      "include_colab_link": true
    },
    "kernelspec": {
      "name": "python3",
      "display_name": "Python 3"
    }
  },
  "cells": [
    {
      "cell_type": "markdown",
      "metadata": {
        "id": "view-in-github",
        "colab_type": "text"
      },
      "source": [
        "<a href=\"https://colab.research.google.com/github/RuolinQu/Leetcode/blob/main/4_Median_of_Two_Sorted_Arrays.ipynb\" target=\"_parent\"><img src=\"https://colab.research.google.com/assets/colab-badge.svg\" alt=\"Open In Colab\"/></a>"
      ]
    },
    {
      "cell_type": "markdown",
      "metadata": {
        "id": "zOoZhQFAiYA7"
      },
      "source": [
        "right midean index n+1//2\r\n",
        "\r\n",
        "m1,m2 right midean candidate\r\n",
        "\r\n",
        "if nums1[m1]<nums2[m2-1]: candiate< not candiate\r\n",
        "\r\n",
        "a[m1]是第一个数组里面第一个没被取到的，b[m2-1]是第二个数组里面最后一个被取到的，如果a[m1]<b[m2-1],   说明第一个数组里面取少了"
      ]
    },
    {
      "cell_type": "code",
      "metadata": {
        "id": "8wDsoCqn2xZz"
      },
      "source": [
        "class Solution:\r\n",
        "    def findMedianSortedArrays(self, nums1: List[int], nums2: List[int]) -> float:\r\n",
        "        n1,n2=len(nums1),len(nums2)\r\n",
        "        if n1>n2: return self.findMedianSortedArrays(nums2,nums1)\r\n",
        "        k=(n1+n2+1)//2\r\n",
        "        l,r=0,n1\r\n",
        "        while l<r:\r\n",
        "            m1=(l+r)//2\r\n",
        "            m2=k-m1\r\n",
        "            if nums1[m1]<nums2[m2-1]:\r\n",
        "                l=m1+1\r\n",
        "            else:\r\n",
        "                r=m1\r\n",
        "        m1,m2=l,k-l\r\n",
        "        c1=max(-float('inf') if m1==0 else nums1[m1-1],-float('inf') if m2==0 else nums2[m2-1])\r\n",
        "        c2=min(float('inf') if m1==n1 else nums1[m1],float('inf') if m2==n2 else nums2[m2])\r\n",
        "        return (c1+c2)/2 if (n1+n2)%2==0 else c1\r\n",
        "        "
      ],
      "execution_count": null,
      "outputs": []
    }
  ]
}