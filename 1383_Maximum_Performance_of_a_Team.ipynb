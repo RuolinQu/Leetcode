{
  "nbformat": 4,
  "nbformat_minor": 0,
  "metadata": {
    "colab": {
      "name": "1383. Maximum Performance of a Team",
      "provenance": [],
      "collapsed_sections": [],
      "authorship_tag": "ABX9TyM5j18kDEVijMBZQhsAyFRL",
      "include_colab_link": true
    },
    "kernelspec": {
      "name": "python3",
      "display_name": "Python 3"
    }
  },
  "cells": [
    {
      "cell_type": "markdown",
      "metadata": {
        "id": "view-in-github",
        "colab_type": "text"
      },
      "source": [
        "<a href=\"https://colab.research.google.com/github/RuolinQu/Leetcode/blob/main/1383_Maximum_Performance_of_a_Team.ipynb\" target=\"_parent\"><img src=\"https://colab.research.google.com/assets/colab-badge.svg\" alt=\"Open In Colab\"/></a>"
      ]
    },
    {
      "cell_type": "markdown",
      "metadata": {
        "id": "qW1BW0Jcdu1i"
      },
      "source": [
        "https://leetcode.com/problems/maximum-performance-of-a-team/discuss/901240/Python3-O(n-log-n)-solution-using-sorting-and-heap-beats-80-of-submissions"
      ]
    },
    {
      "cell_type": "code",
      "metadata": {
        "id": "X691e6xBVMj4"
      },
      "source": [
        "from heapq import *\r\n",
        "class Solution:\r\n",
        "    def maxPerformance(self, n: int, speed: List[int], efficiency: List[int], k: int) -> int:\r\n",
        "        effs=sorted([(efficiency[i],i) for i in range(n)], key=lambda x:(-x[0]))\r\n",
        "        ans=-inf\r\n",
        "        heap=[]\r\n",
        "        total=0\r\n",
        "        for eff,i in effs:\r\n",
        "            if len(heap)<k:\r\n",
        "                heappush(heap,speed[i])\r\n",
        "                total+=speed[i]\r\n",
        "            else:\r\n",
        "                total=total+speed[i]-heappushpop(heap,speed[i])\r\n",
        "            ans=max(ans,total*eff)\r\n",
        "        return ans%(10**9 + 7)\r\n",
        "        "
      ],
      "execution_count": null,
      "outputs": []
    }
  ]
}