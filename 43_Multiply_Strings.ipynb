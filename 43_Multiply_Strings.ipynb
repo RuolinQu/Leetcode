{
  "nbformat": 4,
  "nbformat_minor": 0,
  "metadata": {
    "colab": {
      "name": "43. Multiply Strings.ipynb",
      "provenance": [],
      "authorship_tag": "ABX9TyP6b+A0AeWI+Koh7JS2EJbu",
      "include_colab_link": true
    },
    "kernelspec": {
      "name": "python3",
      "display_name": "Python 3"
    }
  },
  "cells": [
    {
      "cell_type": "markdown",
      "metadata": {
        "id": "view-in-github",
        "colab_type": "text"
      },
      "source": [
        "<a href=\"https://colab.research.google.com/github/RuolinQu/Leetcode/blob/main/43_Multiply_Strings.ipynb\" target=\"_parent\"><img src=\"https://colab.research.google.com/assets/colab-badge.svg\" alt=\"Open In Colab\"/></a>"
      ]
    },
    {
      "cell_type": "markdown",
      "metadata": {
        "id": "cnYmZXBwngTU"
      },
      "source": [
        "\r\n",
        "multiply two large number, transform int to string\r\n",
        "\r\n",
        "traverse two strings from the end to the beginning\r\n",
        "do the multiply on both digits\r\n",
        "\r\n",
        "index=i+j+1 carry=i+j"
      ]
    },
    {
      "cell_type": "code",
      "metadata": {
        "id": "SCh-21sNnaf5"
      },
      "source": [
        "class Solution:\r\n",
        "    def multiply(self, num1: str, num2: str) -> str:\r\n",
        "        m,n=len(num1),len(num2)\r\n",
        "        res=[0 for i in range(m+n)]\r\n",
        "        for i in range(m-1,-1,-1):\r\n",
        "            for j in range(n-1,-1,-1):\r\n",
        "        # for i in range(m):\r\n",
        "        #     for j in range(n):\r\n",
        "                product=int(num1[i])*int(num2[j])\r\n",
        "                index1,index2=i+j,i+j+1\r\n",
        "                total=res[index2]+product\r\n",
        "                res[index1]+=total//10\r\n",
        "                res[index2]=total%10\r\n",
        "                print(res)\r\n",
        "        for i in range(len(res)):\r\n",
        "            res[i]=str(res[i])\r\n",
        "        ans=\"\".join(res).lstrip(\"0\") \r\n",
        "        return ans if ans else \"0\""
      ],
      "execution_count": null,
      "outputs": []
    }
  ]
}