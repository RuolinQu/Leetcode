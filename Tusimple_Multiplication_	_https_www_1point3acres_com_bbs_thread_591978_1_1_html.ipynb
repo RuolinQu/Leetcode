{
  "nbformat": 4,
  "nbformat_minor": 0,
  "metadata": {
    "colab": {
      "name": "Tusimple Multiplication :\t https://www.1point3acres.com/bbs/thread-591978-1-1.html",
      "provenance": [],
      "collapsed_sections": [],
      "authorship_tag": "ABX9TyOYniDAEMbY9/NaLazgjdUq",
      "include_colab_link": true
    },
    "kernelspec": {
      "name": "python3",
      "display_name": "Python 3"
    }
  },
  "cells": [
    {
      "cell_type": "markdown",
      "metadata": {
        "id": "view-in-github",
        "colab_type": "text"
      },
      "source": [
        "<a href=\"https://colab.research.google.com/github/RuolinQu/Leetcode/blob/main/Tusimple_Multiplication_%09_https_www_1point3acres_com_bbs_thread_591978_1_1_html.ipynb\" target=\"_parent\"><img src=\"https://colab.research.google.com/assets/colab-badge.svg\" alt=\"Open In Colab\"/></a>"
      ]
    },
    {
      "cell_type": "markdown",
      "metadata": {
        "id": "ldyNm5FIG6pL"
      },
      "source": [
        "https://leetcode.com/problems/multiply-strings/"
      ]
    },
    {
      "cell_type": "markdown",
      "metadata": {
        "id": "eC95sN4I20gR"
      },
      "source": [
        "题目在图森的面试中其实应该算不难的：\r\n",
        "\r\n",
        "给两个数，算乘法。因为数有可能很大，数字表示方法为List<List<Integer>>， 写成{{count, digit}，...}的形式，如11113345666应该写成{{4, 1}, {2, 3}, {1, 4}, {1, 5}, {3, 6}}\r\n",
        "\r\n",
        "现在不可以使用任何运算符号，只能用两个给定方法：\r\n",
        "List<Integer> add(int a, int b)\r\n",
        "List<Integer> mul(int a, int b)\r\n",
        "\r\n",
        "a和b都要小于10，算出来的数写成一个size为2的list， 如add(4, 7) -> {1, 1}, add(6, 8) -> {1, 4}， add(1, 1) -> (0, 2)，mul(7, 8) -> {5, 6}。 通过这两个method算两个大数的乘积并用规定形式表示。"
      ]
    },
    {
      "cell_type": "code",
      "metadata": {
        "colab": {
          "base_uri": "https://localhost:8080/"
        },
        "id": "8wDsoCqn2xZz",
        "outputId": "2356ccbb-0c96-408d-bb53-4f65aeab29c7"
      },
      "source": [
        "def add(a,b):\r\n",
        "  return [int(x) for x in str(a+b)]\r\n",
        "\r\n",
        "def mul(a,b):\r\n",
        "  return [int(x) for x in str(a*b)]\r\n",
        "\r\n",
        "\r\n",
        "def list_int(arr):\r\n",
        "  return int(\"\".join([str(i) for i in arr]))\r\n",
        "\r\n",
        "def multi(input1,input2):\r\n",
        "  arr1,arr2=[],[]\r\n",
        "  for cell in input1:\r\n",
        "    for i in range(cell[0]):\r\n",
        "      arr1.append(cell[1])\r\n",
        "  for cell in input2:\r\n",
        "    for i in range(cell[0]):\r\n",
        "      arr2.append(cell[1])\r\n",
        "  print(arr1,arr2)\r\n",
        "  m,n=len(arr1),len(arr2)\r\n",
        "  ans=[0 for i in range(m+n)]\r\n",
        "  for i in range(m-1,-1,-1):\r\n",
        "    for j in range(n-1,-1,-1):\r\n",
        "      print(arr1[i],arr2[j])\r\n",
        "      index1,index2=i+j,i+j+1\r\n",
        "      num1=mul(arr1[i],arr2[j])\r\n",
        "      total=add(ans[index2],list_int(num1))\r\n",
        "      if len(total)<2:\r\n",
        "        ans[index2]=total[0]\r\n",
        "        print(ans)\r\n",
        "        continue\r\n",
        "      ans[index1],ans[index2]=ans[index1]+total[0],total[1]\r\n",
        "      print(ans)\r\n",
        "  print(ans)\r\n",
        "\r\n",
        "\r\n",
        "\r\n",
        "\r\n",
        "\r\n",
        "multi([[3,1],[1,5]],[[2,5],[1,6]])"
      ],
      "execution_count": 49,
      "outputs": [
        {
          "output_type": "stream",
          "text": [
            "[1, 1, 1, 5] [5, 5, 6]\n",
            "5 6\n",
            "[0, 0, 0, 0, 0, 3, 0]\n",
            "5 5\n",
            "[0, 0, 0, 0, 2, 8, 0]\n",
            "5 5\n",
            "[0, 0, 0, 2, 7, 8, 0]\n",
            "1 6\n",
            "[0, 0, 0, 2, 8, 4, 0]\n",
            "1 5\n",
            "[0, 0, 0, 3, 3, 4, 0]\n",
            "1 5\n",
            "[0, 0, 0, 8, 3, 4, 0]\n",
            "1 6\n",
            "[0, 0, 0, 8, 9, 4, 0]\n",
            "1 5\n",
            "[0, 0, 1, 3, 9, 4, 0]\n",
            "1 5\n",
            "[0, 0, 6, 3, 9, 4, 0]\n",
            "1 6\n",
            "[0, 0, 6, 9, 9, 4, 0]\n",
            "1 5\n",
            "[0, 1, 1, 9, 9, 4, 0]\n",
            "1 5\n",
            "[0, 6, 1, 9, 9, 4, 0]\n",
            "[0, 6, 1, 9, 9, 4, 0]\n"
          ],
          "name": "stdout"
        }
      ]
    }
  ]
}