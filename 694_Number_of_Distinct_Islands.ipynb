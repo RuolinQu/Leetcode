{
  "nbformat": 4,
  "nbformat_minor": 0,
  "metadata": {
    "colab": {
      "name": "694. Number of Distinct Islands",
      "provenance": [],
      "collapsed_sections": [],
      "authorship_tag": "ABX9TyNky4Y8tyAYgVXXPU08tzj9",
      "include_colab_link": true
    },
    "kernelspec": {
      "name": "python3",
      "display_name": "Python 3"
    }
  },
  "cells": [
    {
      "cell_type": "markdown",
      "metadata": {
        "id": "view-in-github",
        "colab_type": "text"
      },
      "source": [
        "<a href=\"https://colab.research.google.com/github/RuolinQu/Leetcode/blob/main/694_Number_of_Distinct_Islands.ipynb\" target=\"_parent\"><img src=\"https://colab.research.google.com/assets/colab-badge.svg\" alt=\"Open In Colab\"/></a>"
      ]
    },
    {
      "cell_type": "markdown",
      "metadata": {
        "id": "-KHh6dM0Rykv"
      },
      "source": [
        "string to record travel route, \"b\" as end"
      ]
    },
    {
      "cell_type": "code",
      "metadata": {
        "id": "8wDsoCqn2xZz"
      },
      "source": [
        "class Solution:\r\n",
        "    def numDistinctIslands(self, grid: List[List[int]]) -> int:\r\n",
        "        ans=0\r\n",
        "        m,n=len(grid),len(grid[0])\r\n",
        "        def dfs(i,j,loc):\r\n",
        "            if 0<=i<m and 0<=j<n and grid[i][j]==1:\r\n",
        "                nonlocal direc\r\n",
        "                grid[i][j]=0\r\n",
        "                direc+=loc\r\n",
        "                dfs(i+1,j,\"d\")\r\n",
        "                dfs(i-1,j,\"u\")\r\n",
        "                dfs(i,j+1,\"r\")\r\n",
        "                dfs(i,j-1,\"l\")\r\n",
        "                direc+=\"b\"\r\n",
        "                \r\n",
        "        ans=set()\r\n",
        "        direc=\"\"\r\n",
        "        for i in range(m):\r\n",
        "            for j in range(n):\r\n",
        "                if grid[i][j]==1:\r\n",
        "                    dfs(i,j,\"s\")\r\n",
        "                    ans.add(direc)\r\n",
        "                    direc=\"\"\r\n",
        "        return len(ans)\r\n",
        "                "
      ],
      "execution_count": null,
      "outputs": []
    }
  ]
}