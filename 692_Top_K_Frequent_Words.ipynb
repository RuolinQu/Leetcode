{
  "nbformat": 4,
  "nbformat_minor": 0,
  "metadata": {
    "colab": {
      "name": "692. Top K Frequent Words",
      "provenance": [],
      "collapsed_sections": [],
      "authorship_tag": "ABX9TyOD7cZJaXN1yiCgTyPFKnvE",
      "include_colab_link": true
    },
    "kernelspec": {
      "name": "python3",
      "display_name": "Python 3"
    }
  },
  "cells": [
    {
      "cell_type": "markdown",
      "metadata": {
        "id": "view-in-github",
        "colab_type": "text"
      },
      "source": [
        "<a href=\"https://colab.research.google.com/github/RuolinQu/Leetcode/blob/main/692_Top_K_Frequent_Words.ipynb\" target=\"_parent\"><img src=\"https://colab.research.google.com/assets/colab-badge.svg\" alt=\"Open In Colab\"/></a>"
      ]
    },
    {
      "cell_type": "code",
      "metadata": {
        "id": "VmuYIDQ3dTPs"
      },
      "source": [
        "    def topKFrequent(self, words: List[str], k: int) -> List[str]:\n",
        "        heap=[(-count,word) for word,count in Counter(words).items()]\n",
        "        heapify(heap)\n",
        "        ans=[]\n",
        "        for _ in range(k):\n",
        "            ans.append(heappop(heap)[1])\n",
        "        return ans"
      ],
      "execution_count": null,
      "outputs": []
    }
  ]
}