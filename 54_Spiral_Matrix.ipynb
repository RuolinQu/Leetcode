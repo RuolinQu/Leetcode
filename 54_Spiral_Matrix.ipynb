{
  "nbformat": 4,
  "nbformat_minor": 0,
  "metadata": {
    "colab": {
      "name": "54. Spiral Matrix",
      "provenance": [],
      "collapsed_sections": [],
      "authorship_tag": "ABX9TyPxv+Hgz5ne0B3Uzfyrn2oe",
      "include_colab_link": true
    },
    "kernelspec": {
      "name": "python3",
      "display_name": "Python 3"
    }
  },
  "cells": [
    {
      "cell_type": "markdown",
      "metadata": {
        "id": "view-in-github",
        "colab_type": "text"
      },
      "source": [
        "<a href=\"https://colab.research.google.com/github/RuolinQu/Leetcode/blob/main/54_Spiral_Matrix.ipynb\" target=\"_parent\"><img src=\"https://colab.research.google.com/assets/colab-badge.svg\" alt=\"Open In Colab\"/></a>"
      ]
    },
    {
      "cell_type": "markdown",
      "metadata": {
        "id": "zpCK58Lq64cM"
      },
      "source": [
        "1: neat, >O(n)\r\n",
        "\r\n",
        "2: index search"
      ]
    },
    {
      "cell_type": "code",
      "metadata": {
        "id": "SCh-21sNnaf5"
      },
      "source": [
        "class Solution:\r\n",
        "    def spiralOrder(self, matrix: List[List[int]]) -> List[int]:\r\n",
        "\r\n",
        "###111\r\n",
        "        # ans=[]\r\n",
        "        # while matrix:\r\n",
        "        #     ans+=matrix.pop(0)\r\n",
        "        #     if matrix and matrix[0]:\r\n",
        "        #         for row in matrix:\r\n",
        "        #             ans.append(row.pop())\r\n",
        "        #     if matrix:\r\n",
        "        #         ans+=matrix.pop()[::-1]\r\n",
        "        #     if matrix and matrix[0]:\r\n",
        "        #         for row in matrix[::-1]:\r\n",
        "        #             ans.append(row.pop(0))\r\n",
        "        # print(ans)\r\n",
        "        \r\n",
        "###222\r\n",
        "        if not matrix[0]:return 0\r\n",
        "        ans=[]\r\n",
        "        row_start,row_end,col_start,col_end=0,len(matrix)-1,0,len(matrix[0])-1\r\n",
        "        while (row_start<=row_end and col_start<=col_end):\r\n",
        "            for i in range(col_start,col_end+1):\r\n",
        "                ans.append(matrix[row_start][i])\r\n",
        "            row_start+=1\r\n",
        "            if row_start<=row_end and col_start<=col_end:\r\n",
        "                for i in range(row_start,row_end+1):\r\n",
        "                    ans.append(matrix[i][col_end])\r\n",
        "                col_end-=1\r\n",
        "            if row_start<=row_end and col_start<=col_end:\r\n",
        "                for i in range(col_end,col_start-1,-1):\r\n",
        "                    ans.append(matrix[row_end][i])\r\n",
        "                row_end-=1\r\n",
        "            if row_start<=row_end and col_start<=col_end:\r\n",
        "                for i in range(row_end,row_start-1,-1):\r\n",
        "                    ans.append(matrix[i][col_start])\r\n",
        "                col_start+=1\r\n",
        "        return ans\r\n",
        "    "
      ],
      "execution_count": null,
      "outputs": []
    }
  ]
}