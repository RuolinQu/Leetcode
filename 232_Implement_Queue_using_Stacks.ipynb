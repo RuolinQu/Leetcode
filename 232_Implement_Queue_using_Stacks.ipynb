{
  "nbformat": 4,
  "nbformat_minor": 0,
  "metadata": {
    "colab": {
      "name": "232. Implement Queue using Stacks",
      "provenance": [],
      "collapsed_sections": [],
      "authorship_tag": "ABX9TyNEBxLY4ykfvIV3cBR5CEba",
      "include_colab_link": true
    },
    "kernelspec": {
      "name": "python3",
      "display_name": "Python 3"
    }
  },
  "cells": [
    {
      "cell_type": "markdown",
      "metadata": {
        "id": "view-in-github",
        "colab_type": "text"
      },
      "source": [
        "<a href=\"https://colab.research.google.com/github/RuolinQu/Leetcode/blob/main/232_Implement_Queue_using_Stacks.ipynb\" target=\"_parent\"><img src=\"https://colab.research.google.com/assets/colab-badge.svg\" alt=\"Open In Colab\"/></a>"
      ]
    },
    {
      "cell_type": "code",
      "metadata": {
        "id": "8wDsoCqn2xZz"
      },
      "source": [
        "class MyQueue:\r\n",
        "\r\n",
        "    def __init__(self):\r\n",
        "        \"\"\"\r\n",
        "        Initialize your data structure here.\r\n",
        "        \"\"\"\r\n",
        "        self.s1=[]\r\n",
        "        self.s2=[]\r\n",
        "\r\n",
        "    def push(self, x: int) -> None:\r\n",
        "        \"\"\"\r\n",
        "        Push element x to the back of queue.\r\n",
        "        \"\"\"\r\n",
        "        self.s1.append(x)\r\n",
        "\r\n",
        "    def pop(self) -> int:\r\n",
        "        \"\"\"\r\n",
        "        Removes the element from in front of queue and returns that element.\r\n",
        "        \"\"\"\r\n",
        "        if len(self.s2)!=0:\r\n",
        "            return self.s2.pop()\r\n",
        "        else:\r\n",
        "            while self.s1:self.s2.append(self.s1.pop())\r\n",
        "            return self.s2.pop()\r\n",
        "\r\n",
        "    def peek(self) -> int:\r\n",
        "        \"\"\"\r\n",
        "        Get the front element.\r\n",
        "        \"\"\"\r\n",
        "        if len(self.s2)!=0:\r\n",
        "            return self.s2[len(self.s2)-1]\r\n",
        "        else:\r\n",
        "            if len(self.s1)!=0:\r\n",
        "                return self.s1[0]\r\n",
        "\r\n",
        "    def empty(self) -> bool:\r\n",
        "        \"\"\"\r\n",
        "        Returns whether the queue is empty.\r\n",
        "        \"\"\"\r\n",
        "        if len(self.s1)==0 and len(self.s2)==0:return True\r\n",
        "        return False\r\n",
        "                "
      ],
      "execution_count": null,
      "outputs": []
    }
  ]
}