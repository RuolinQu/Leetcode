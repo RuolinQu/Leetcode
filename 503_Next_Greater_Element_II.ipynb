{
  "nbformat": 4,
  "nbformat_minor": 0,
  "metadata": {
    "colab": {
      "name": "503. Next Greater Element II",
      "provenance": [],
      "collapsed_sections": [],
      "authorship_tag": "ABX9TyO4zvmHja5TtKfnW3QWpMMP",
      "include_colab_link": true
    },
    "kernelspec": {
      "name": "python3",
      "display_name": "Python 3"
    }
  },
  "cells": [
    {
      "cell_type": "markdown",
      "metadata": {
        "id": "view-in-github",
        "colab_type": "text"
      },
      "source": [
        "<a href=\"https://colab.research.google.com/github/RuolinQu/Leetcode/blob/main/503_Next_Greater_Element_II.ipynb\" target=\"_parent\"><img src=\"https://colab.research.google.com/assets/colab-badge.svg\" alt=\"Open In Colab\"/></a>"
      ]
    },
    {
      "cell_type": "markdown",
      "metadata": {
        "id": "cnYmZXBwngTU"
      },
      "source": [
        "ignore the shorter ele in the stack. pop out them.\r\n",
        "\r\n",
        "keep the height in a descending order.\r\n",
        "\r\n",
        "consider two same array connected, traverse from the end to the front.\r\n",
        "\r\n",
        "index=index%len(arr)"
      ]
    },
    {
      "cell_type": "code",
      "metadata": {
        "id": "SCh-21sNnaf5"
      },
      "source": [
        "class Solution:\r\n",
        "    def nextGreaterElements(self, nums: List[int]) -> List[int]:\r\n",
        "        ans=[-1 for i in range(len(nums))]\r\n",
        "        stack=[]\r\n",
        "        n=len(nums)\r\n",
        "        for i in range(2*len(nums)-1,-1,-1):\r\n",
        "            while stack and stack[-1]<=nums[i%n]:\r\n",
        "                stack.pop()\r\n",
        "            if stack:\r\n",
        "                ans[i%len(nums)]=stack[-1]\r\n",
        "            else:\r\n",
        "                ans[i%len(nums)]=-1\r\n",
        "            stack.append(nums[i%n])\r\n",
        "        return ans\r\n",
        "                    "
      ],
      "execution_count": null,
      "outputs": []
    }
  ]
}