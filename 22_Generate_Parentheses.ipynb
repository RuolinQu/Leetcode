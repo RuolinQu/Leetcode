{
  "nbformat": 4,
  "nbformat_minor": 0,
  "metadata": {
    "colab": {
      "name": "22. Generate Parentheses",
      "provenance": [],
      "collapsed_sections": [],
      "authorship_tag": "ABX9TyMknShVEck/0RFN2qBVjUV8",
      "include_colab_link": true
    },
    "kernelspec": {
      "name": "python3",
      "display_name": "Python 3"
    }
  },
  "cells": [
    {
      "cell_type": "markdown",
      "metadata": {
        "id": "view-in-github",
        "colab_type": "text"
      },
      "source": [
        "<a href=\"https://colab.research.google.com/github/RuolinQu/Leetcode/blob/main/22_Generate_Parentheses.ipynb\" target=\"_parent\"><img src=\"https://colab.research.google.com/assets/colab-badge.svg\" alt=\"Open In Colab\"/></a>"
      ]
    },
    {
      "cell_type": "markdown",
      "metadata": {
        "id": "cnYmZXBwngTU"
      },
      "source": [
        "def problem:\r\n",
        "  if end:ans.append(res)\r\n",
        "  for selection in choice:\r\n",
        "    make selection\r\n",
        "    dfs()\r\n",
        "    cancle selection"
      ]
    },
    {
      "cell_type": "code",
      "metadata": {
        "id": "SCh-21sNnaf5"
      },
      "source": [
        "class Solution:\r\n",
        "    def generateParenthesis(self, n: int) -> List[str]:\r\n",
        "        ans=[]\r\n",
        "        def dfs(l,r,st):\r\n",
        "            if l==n and r==n:\r\n",
        "                ans.append(st)\r\n",
        "            if l>n or r>n or r>l:\r\n",
        "                return \r\n",
        "            dfs(l+1,r,st+\"(\")\r\n",
        "            dfs(l,r+1,st+\")\")\r\n",
        "        dfs(0,0,\"\")\r\n",
        "        return ans\r\n",
        "        "
      ],
      "execution_count": null,
      "outputs": []
    }
  ]
}