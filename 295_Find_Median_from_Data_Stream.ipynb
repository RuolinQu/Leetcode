{
  "nbformat": 4,
  "nbformat_minor": 0,
  "metadata": {
    "colab": {
      "name": "295. Find Median from Data Stream",
      "provenance": [],
      "collapsed_sections": [],
      "authorship_tag": "ABX9TyNTA05+luIxht0ORCF0lWzT",
      "include_colab_link": true
    },
    "kernelspec": {
      "name": "python3",
      "display_name": "Python 3"
    }
  },
  "cells": [
    {
      "cell_type": "markdown",
      "metadata": {
        "id": "view-in-github",
        "colab_type": "text"
      },
      "source": [
        "<a href=\"https://colab.research.google.com/github/RuolinQu/Leetcode/blob/main/295_Find_Median_from_Data_Stream.ipynb\" target=\"_parent\"><img src=\"https://colab.research.google.com/assets/colab-badge.svg\" alt=\"Open In Colab\"/></a>"
      ]
    },
    {
      "cell_type": "markdown",
      "metadata": {
        "id": "sCB90u4hMEKq"
      },
      "source": [
        "two heaps, half, half\r\n",
        "O(logn)"
      ]
    },
    {
      "cell_type": "markdown",
      "metadata": {
        "id": "drt_QJuqLjgh"
      },
      "source": [
        "Follow up:\r\n",
        "\r\n",
        "If the range of the numbers are between 0 and 100, we can use bins to collect the frequency of each number. This makes the insert process O(1). To get the median, we can simply check what is the cumulative count (if 500 elements inserted, median is the 250th and 251th number. we need to find after which element do we go over count 250 and 251, so we add count for 0, count for 1, etc. until we get to elements covering 250 and 251). This can be done in O(1) time, since we go at most from 0 up to 100.\r\n",
        "\r\n",
        "If 99% of the numbers are in [0, 100] but 1% is not, we can simply have two extra counts, one for less than 0, one for greater than 100. This is because we know for sure the median is still in [0, 100] since it occupies more than 50% of the total counts, so we don't need the values for those 1%. Thus, we simply add in two extra counts when calculating the cumulative count value for median, and do the same thing as before to find the median. For example if we have 107 elements inserted, and there are 2 elements before 0 and 5 after 100. Since total elements = 107, we are looking for 54th element, so we start with count = 2, add count for 0, for 1, etc. until we get the element that increases count over 54."
      ]
    },
    {
      "cell_type": "code",
      "metadata": {
        "id": "X691e6xBVMj4"
      },
      "source": [
        "from heapq import*\r\n",
        "class MedianFinder:\r\n",
        "\r\n",
        "    def __init__(self):\r\n",
        "        \"\"\"\r\n",
        "        initialize your data structure here.\r\n",
        "        \"\"\"\r\n",
        "        self.large=[]\r\n",
        "        self.small=[]\r\n",
        "\r\n",
        "    def addNum(self, num: int) -> None:\r\n",
        "        if len(self.large)==len(self.small):\r\n",
        "            heappush(self.large,-heappushpop(self.small,-num))\r\n",
        "        else:\r\n",
        "            heappush(self.small,-heappushpop(self.large,num))\r\n",
        "        print(self.small,self.large)\r\n",
        "    \r\n",
        "    \r\n",
        "    \r\n",
        "    def findMedian(self) -> float:\r\n",
        "        if len(self.large)==len(self.small):\r\n",
        "            return (self.large[0]-self.small[0])/2\r\n",
        "        else:\r\n",
        "            return self.large[0]\r\n",
        "\r\n",
        "        \r\n",
        "        "
      ],
      "execution_count": null,
      "outputs": []
    }
  ]
}