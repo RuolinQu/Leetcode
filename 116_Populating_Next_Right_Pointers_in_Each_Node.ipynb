{
  "nbformat": 4,
  "nbformat_minor": 0,
  "metadata": {
    "colab": {
      "name": "116. Populating Next Right Pointers in Each Node",
      "provenance": [],
      "collapsed_sections": [],
      "authorship_tag": "ABX9TyPLNQda32V38+x9NI3c5qzF",
      "include_colab_link": true
    },
    "kernelspec": {
      "name": "python3",
      "display_name": "Python 3"
    }
  },
  "cells": [
    {
      "cell_type": "markdown",
      "metadata": {
        "id": "view-in-github",
        "colab_type": "text"
      },
      "source": [
        "<a href=\"https://colab.research.google.com/github/RuolinQu/Leetcode/blob/main/116_Populating_Next_Right_Pointers_in_Each_Node.ipynb\" target=\"_parent\"><img src=\"https://colab.research.google.com/assets/colab-badge.svg\" alt=\"Open In Colab\"/></a>"
      ]
    },
    {
      "cell_type": "code",
      "metadata": {
        "id": "8wDsoCqn2xZz"
      },
      "source": [
        "\"\"\"\r\n",
        "# Definition for a Node.\r\n",
        "class Node:\r\n",
        "    def __init__(self, val: int = 0, left: 'Node' = None, right: 'Node' = None, next: 'Node' = None):\r\n",
        "        self.val = val\r\n",
        "        self.left = left\r\n",
        "        self.right = right\r\n",
        "        self.next = next\r\n",
        "\"\"\"\r\n",
        "\r\n",
        "class Solution:\r\n",
        "    def connect(self, root: 'Node') -> 'Node':\r\n",
        "        \r\n",
        "        def helper(node):\r\n",
        "            if not node:return None\r\n",
        "            if node.left:\r\n",
        "                if node.right:\r\n",
        "                    node.left.next=node.right\r\n",
        "                else:node.left.next=None\r\n",
        "            if node.right:\r\n",
        "                if node.next and node.next.left:\r\n",
        "                    node.right.next=node.next.left\r\n",
        "                else:\r\n",
        "                    node.right.next=None\r\n",
        "            helper(node.left)\r\n",
        "            helper(node.right)\r\n",
        "        helper(root)\r\n",
        "        return root\r\n",
        "        "
      ],
      "execution_count": null,
      "outputs": []
    }
  ]
}