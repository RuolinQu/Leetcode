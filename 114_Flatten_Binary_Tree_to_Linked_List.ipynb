{
  "nbformat": 4,
  "nbformat_minor": 0,
  "metadata": {
    "colab": {
      "name": "114. Flatten Binary Tree to Linked List",
      "provenance": [],
      "collapsed_sections": [],
      "authorship_tag": "ABX9TyOykvcvcspSArDfbh/fLCxL",
      "include_colab_link": true
    },
    "kernelspec": {
      "name": "python3",
      "display_name": "Python 3"
    }
  },
  "cells": [
    {
      "cell_type": "markdown",
      "metadata": {
        "id": "view-in-github",
        "colab_type": "text"
      },
      "source": [
        "<a href=\"https://colab.research.google.com/github/RuolinQu/Leetcode/blob/main/114_Flatten_Binary_Tree_to_Linked_List.ipynb\" target=\"_parent\"><img src=\"https://colab.research.google.com/assets/colab-badge.svg\" alt=\"Open In Colab\"/></a>"
      ]
    },
    {
      "cell_type": "code",
      "metadata": {
        "id": "VmuYIDQ3dTPs"
      },
      "source": [
        "    def flatten(self, root: TreeNode) -> None:\n",
        "        \"\"\"\n",
        "        Do not return anything, modify root in-place instead.\n",
        "        \"\"\"\n",
        "        \n",
        "        def helper(node):\n",
        "            if not node:return\n",
        "            if node.left and node.right:\n",
        "                l=helper(node.left)\n",
        "                r=helper(node.right)\n",
        "                node.left,node.right,l.right=None,node.left,node.right\n",
        "                return r\n",
        "            elif node.left:\n",
        "                node.right,node.left=node.left,None\n",
        "                return helper(node.right)\n",
        "            elif node.right:\n",
        "                return helper(node.right)\n",
        "            else:\n",
        "                return node\n",
        "        helper(root)"
      ],
      "execution_count": null,
      "outputs": []
    }
  ]
}