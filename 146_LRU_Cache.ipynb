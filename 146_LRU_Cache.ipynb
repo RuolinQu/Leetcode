{
  "nbformat": 4,
  "nbformat_minor": 0,
  "metadata": {
    "colab": {
      "name": "146. LRU Cache",
      "provenance": [],
      "collapsed_sections": [],
      "authorship_tag": "ABX9TyOiMJZ8z9fE6qjW5NDtRnSb",
      "include_colab_link": true
    },
    "kernelspec": {
      "name": "python3",
      "display_name": "Python 3"
    }
  },
  "cells": [
    {
      "cell_type": "markdown",
      "metadata": {
        "id": "view-in-github",
        "colab_type": "text"
      },
      "source": [
        "<a href=\"https://colab.research.google.com/github/RuolinQu/Leetcode/blob/main/146_LRU_Cache.ipynb\" target=\"_parent\"><img src=\"https://colab.research.google.com/assets/colab-badge.svg\" alt=\"Open In Colab\"/></a>"
      ]
    },
    {
      "cell_type": "markdown",
      "metadata": {
        "id": "zpCK58Lq64cM"
      },
      "source": [
        "put:\r\n",
        "\r\n",
        "1. in dic, del it\r\n",
        "\r\n",
        "2. not in and full, popitem(last=False)"
      ]
    },
    {
      "cell_type": "code",
      "metadata": {
        "id": "SCh-21sNnaf5"
      },
      "source": [
        "class LRUCache:\r\n",
        "\r\n",
        "    def __init__(self, capacity: int):\r\n",
        "        # self.dic=collections.OrderedDict()\r\n",
        "        # self.cap=capacity\r\n",
        "        self.cap=capacity\r\n",
        "        self.dic=collections.OrderedDict()\r\n",
        "        \r\n",
        "    def get(self, key: int) -> int:\r\n",
        "        if key in self.dic:\r\n",
        "            value=self.dic[key]\r\n",
        "            del self.dic[key]\r\n",
        "            self.dic[key]=value\r\n",
        "            return value\r\n",
        "        return -1\r\n",
        "        \r\n",
        "        \r\n",
        "        \r\n",
        "        \r\n",
        "\r\n",
        "    def put(self, key: int, value: int) -> None:\r\n",
        "        if key in self.dic:\r\n",
        "            del self.dic[key]\r\n",
        "            self.cap+=1\r\n",
        "        elif not self.cap:\r\n",
        "            self.dic.popitem(last=False)\r\n",
        "            self.cap+=1\r\n",
        "        self.cap-=1\r\n",
        "        self.dic[key]=value\r\n",
        "                \r\n",
        "                \r\n",
        "            \r\n",
        "        \r\n",
        "        \r\n",
        "        "
      ],
      "execution_count": null,
      "outputs": []
    }
  ]
}