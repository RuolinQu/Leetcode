{
  "nbformat": 4,
  "nbformat_minor": 0,
  "metadata": {
    "colab": {
      "name": "145. Binary Tree Postorder Traversal",
      "provenance": [],
      "collapsed_sections": [],
      "authorship_tag": "ABX9TyNmpoTPJ0ow0XzcDcXtkEjc",
      "include_colab_link": true
    },
    "kernelspec": {
      "name": "python3",
      "display_name": "Python 3"
    }
  },
  "cells": [
    {
      "cell_type": "markdown",
      "metadata": {
        "id": "view-in-github",
        "colab_type": "text"
      },
      "source": [
        "<a href=\"https://colab.research.google.com/github/RuolinQu/Leetcode/blob/main/145_Binary_Tree_Postorder_Traversal.ipynb\" target=\"_parent\"><img src=\"https://colab.research.google.com/assets/colab-badge.svg\" alt=\"Open In Colab\"/></a>"
      ]
    },
    {
      "cell_type": "code",
      "metadata": {
        "id": "X691e6xBVMj4"
      },
      "source": [
        "    def postorderTraversal(self, root: TreeNode) -> List[int]:\r\n",
        "        # if not root:return []\r\n",
        "        # return self.postorderTraversal(root.left)+self.postorderTraversal(root.right)+[root.val]\r\n",
        "        if not root:return []\r\n",
        "        ans,stack=[],[root]\r\n",
        "        while stack:\r\n",
        "            node=stack.pop()\r\n",
        "            ans.append(node.val)\r\n",
        "            if node.left:stack.append(node.left)\r\n",
        "            if node.right:stack.append(node.right)\r\n",
        "        return ans[::-1]\r\n",
        "                \r\n",
        "        \r\n",
        "        \r\n",
        "        \r\n",
        "        \r\n",
        "        "
      ],
      "execution_count": null,
      "outputs": []
    }
  ]
}